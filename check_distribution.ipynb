{
 "cells": [
  {
   "cell_type": "code",
   "execution_count": 73,
   "metadata": {},
   "outputs": [],
   "source": [
    "import pickle\n",
    "import numpy as np\n",
    "import torch\n",
    "import pandas as pd\n",
    "import seaborn as sns\n",
    "import matplotlib.pyplot as plt"
   ]
  },
  {
   "cell_type": "code",
   "execution_count": 2,
   "metadata": {},
   "outputs": [],
   "source": [
    "#load achilles sample\n",
    "sample = pd.read_csv('./data/sample_info.csv')"
   ]
  },
  {
   "cell_type": "code",
   "execution_count": 3,
   "metadata": {},
   "outputs": [],
   "source": [
    "column = sample[['DepMap_ID','primary_disease','lineage_molecular_subtype']]"
   ]
  },
  {
   "cell_type": "code",
   "execution_count": 4,
   "metadata": {},
   "outputs": [],
   "source": [
    "breast_cancer = column[(column['primary_disease'] == 'Breast Cancer')]"
   ]
  },
  {
   "cell_type": "code",
   "execution_count": 5,
   "metadata": {},
   "outputs": [],
   "source": [
    "breast_cancer = breast_cancer.fillna(0)"
   ]
  },
  {
   "cell_type": "code",
   "execution_count": 6,
   "metadata": {},
   "outputs": [],
   "source": [
    "fillna = breast_cancer[(breast_cancer['lineage_molecular_subtype']== 0)]"
   ]
  },
  {
   "cell_type": "code",
   "execution_count": 7,
   "metadata": {},
   "outputs": [],
   "source": [
    "breast_cancer = breast_cancer.drop(fillna.index)"
   ]
  },
  {
   "cell_type": "code",
   "execution_count": 8,
   "metadata": {},
   "outputs": [],
   "source": [
    "cell_line = breast_cancer['DepMap_ID'].tolist()"
   ]
  },
  {
   "cell_type": "code",
   "execution_count": 472,
   "metadata": {},
   "outputs": [],
   "source": [
    "#laod achilles gene\n",
    "gene_effect = pd.read_csv('./data/Achilles_gene_effect.csv',index_col=0)"
   ]
  },
  {
   "cell_type": "code",
   "execution_count": 10,
   "metadata": {},
   "outputs": [],
   "source": [
    "bc_sample = gene_effect.reindex(cell_line)"
   ]
  },
  {
   "cell_type": "code",
   "execution_count": 11,
   "metadata": {},
   "outputs": [],
   "source": [
    "bc_sample = bc_sample[['ERBB2 (2064)','ESR1 (2099)']].dropna()"
   ]
  },
  {
   "cell_type": "code",
   "execution_count": 12,
   "metadata": {},
   "outputs": [
    {
     "data": {
      "text/html": [
       "<div>\n",
       "<style scoped>\n",
       "    .dataframe tbody tr th:only-of-type {\n",
       "        vertical-align: middle;\n",
       "    }\n",
       "\n",
       "    .dataframe tbody tr th {\n",
       "        vertical-align: top;\n",
       "    }\n",
       "\n",
       "    .dataframe thead th {\n",
       "        text-align: right;\n",
       "    }\n",
       "</style>\n",
       "<table border=\"1\" class=\"dataframe\">\n",
       "  <thead>\n",
       "    <tr style=\"text-align: right;\">\n",
       "      <th></th>\n",
       "      <th>ERBB2 (2064)</th>\n",
       "      <th>ESR1 (2099)</th>\n",
       "    </tr>\n",
       "    <tr>\n",
       "      <th>DepMap_ID</th>\n",
       "      <th></th>\n",
       "      <th></th>\n",
       "    </tr>\n",
       "  </thead>\n",
       "  <tbody>\n",
       "    <tr>\n",
       "      <th>ACH-000017</th>\n",
       "      <td>-1.265227</td>\n",
       "      <td>-0.016796</td>\n",
       "    </tr>\n",
       "    <tr>\n",
       "      <th>ACH-000019</th>\n",
       "      <td>-0.159680</td>\n",
       "      <td>-1.178090</td>\n",
       "    </tr>\n",
       "    <tr>\n",
       "      <th>ACH-000028</th>\n",
       "      <td>-0.180980</td>\n",
       "      <td>-0.811218</td>\n",
       "    </tr>\n",
       "    <tr>\n",
       "      <th>ACH-000097</th>\n",
       "      <td>-0.696371</td>\n",
       "      <td>-0.600623</td>\n",
       "    </tr>\n",
       "    <tr>\n",
       "      <th>ACH-000111</th>\n",
       "      <td>-0.164745</td>\n",
       "      <td>-0.046832</td>\n",
       "    </tr>\n",
       "    <tr>\n",
       "      <th>ACH-000148</th>\n",
       "      <td>-0.136770</td>\n",
       "      <td>-0.000469</td>\n",
       "    </tr>\n",
       "    <tr>\n",
       "      <th>ACH-000212</th>\n",
       "      <td>-0.159076</td>\n",
       "      <td>-0.025404</td>\n",
       "    </tr>\n",
       "    <tr>\n",
       "      <th>ACH-000223</th>\n",
       "      <td>-0.120979</td>\n",
       "      <td>-0.086975</td>\n",
       "    </tr>\n",
       "    <tr>\n",
       "      <th>ACH-000248</th>\n",
       "      <td>-1.075530</td>\n",
       "      <td>-0.205576</td>\n",
       "    </tr>\n",
       "    <tr>\n",
       "      <th>ACH-000258</th>\n",
       "      <td>-0.007555</td>\n",
       "      <td>0.141011</td>\n",
       "    </tr>\n",
       "    <tr>\n",
       "      <th>ACH-000276</th>\n",
       "      <td>-0.432355</td>\n",
       "      <td>0.041939</td>\n",
       "    </tr>\n",
       "    <tr>\n",
       "      <th>ACH-000277</th>\n",
       "      <td>-1.894343</td>\n",
       "      <td>-1.171240</td>\n",
       "    </tr>\n",
       "    <tr>\n",
       "      <th>ACH-000288</th>\n",
       "      <td>-0.179868</td>\n",
       "      <td>-0.034729</td>\n",
       "    </tr>\n",
       "    <tr>\n",
       "      <th>ACH-000330</th>\n",
       "      <td>-0.498351</td>\n",
       "      <td>-1.206278</td>\n",
       "    </tr>\n",
       "    <tr>\n",
       "      <th>ACH-000352</th>\n",
       "      <td>-0.001375</td>\n",
       "      <td>-1.380529</td>\n",
       "    </tr>\n",
       "    <tr>\n",
       "      <th>ACH-000374</th>\n",
       "      <td>-0.839191</td>\n",
       "      <td>-0.110450</td>\n",
       "    </tr>\n",
       "    <tr>\n",
       "      <th>ACH-000573</th>\n",
       "      <td>0.012889</td>\n",
       "      <td>0.037937</td>\n",
       "    </tr>\n",
       "    <tr>\n",
       "      <th>ACH-000621</th>\n",
       "      <td>-0.127867</td>\n",
       "      <td>-0.065729</td>\n",
       "    </tr>\n",
       "    <tr>\n",
       "      <th>ACH-000624</th>\n",
       "      <td>-0.263342</td>\n",
       "      <td>-0.198855</td>\n",
       "    </tr>\n",
       "    <tr>\n",
       "      <th>ACH-000699</th>\n",
       "      <td>0.009881</td>\n",
       "      <td>-0.175258</td>\n",
       "    </tr>\n",
       "    <tr>\n",
       "      <th>ACH-000711</th>\n",
       "      <td>-0.333715</td>\n",
       "      <td>-0.077267</td>\n",
       "    </tr>\n",
       "    <tr>\n",
       "      <th>ACH-000721</th>\n",
       "      <td>-0.259024</td>\n",
       "      <td>-0.090316</td>\n",
       "    </tr>\n",
       "    <tr>\n",
       "      <th>ACH-000725</th>\n",
       "      <td>-1.615954</td>\n",
       "      <td>0.086108</td>\n",
       "    </tr>\n",
       "    <tr>\n",
       "      <th>ACH-000768</th>\n",
       "      <td>-0.242511</td>\n",
       "      <td>-0.093721</td>\n",
       "    </tr>\n",
       "    <tr>\n",
       "      <th>ACH-000783</th>\n",
       "      <td>-0.052409</td>\n",
       "      <td>-1.061541</td>\n",
       "    </tr>\n",
       "    <tr>\n",
       "      <th>ACH-000849</th>\n",
       "      <td>-0.060022</td>\n",
       "      <td>-0.070939</td>\n",
       "    </tr>\n",
       "    <tr>\n",
       "      <th>ACH-000856</th>\n",
       "      <td>-0.309758</td>\n",
       "      <td>0.040303</td>\n",
       "    </tr>\n",
       "    <tr>\n",
       "      <th>ACH-000859</th>\n",
       "      <td>-0.181525</td>\n",
       "      <td>0.031900</td>\n",
       "    </tr>\n",
       "    <tr>\n",
       "      <th>ACH-000876</th>\n",
       "      <td>-0.137595</td>\n",
       "      <td>-1.192376</td>\n",
       "    </tr>\n",
       "    <tr>\n",
       "      <th>ACH-000910</th>\n",
       "      <td>-1.526256</td>\n",
       "      <td>-0.159646</td>\n",
       "    </tr>\n",
       "    <tr>\n",
       "      <th>ACH-001390</th>\n",
       "      <td>-0.068894</td>\n",
       "      <td>-0.119224</td>\n",
       "    </tr>\n",
       "    <tr>\n",
       "      <th>ACH-001391</th>\n",
       "      <td>0.005120</td>\n",
       "      <td>-0.374842</td>\n",
       "    </tr>\n",
       "    <tr>\n",
       "      <th>ACH-001394</th>\n",
       "      <td>-0.355202</td>\n",
       "      <td>-0.161251</td>\n",
       "    </tr>\n",
       "    <tr>\n",
       "      <th>ACH-001396</th>\n",
       "      <td>0.526852</td>\n",
       "      <td>-0.035894</td>\n",
       "    </tr>\n",
       "    <tr>\n",
       "      <th>ACH-001819</th>\n",
       "      <td>-0.129486</td>\n",
       "      <td>-0.493113</td>\n",
       "    </tr>\n",
       "  </tbody>\n",
       "</table>\n",
       "</div>"
      ],
      "text/plain": [
       "            ERBB2 (2064)  ESR1 (2099)\n",
       "DepMap_ID                            \n",
       "ACH-000017     -1.265227    -0.016796\n",
       "ACH-000019     -0.159680    -1.178090\n",
       "ACH-000028     -0.180980    -0.811218\n",
       "ACH-000097     -0.696371    -0.600623\n",
       "ACH-000111     -0.164745    -0.046832\n",
       "ACH-000148     -0.136770    -0.000469\n",
       "ACH-000212     -0.159076    -0.025404\n",
       "ACH-000223     -0.120979    -0.086975\n",
       "ACH-000248     -1.075530    -0.205576\n",
       "ACH-000258     -0.007555     0.141011\n",
       "ACH-000276     -0.432355     0.041939\n",
       "ACH-000277     -1.894343    -1.171240\n",
       "ACH-000288     -0.179868    -0.034729\n",
       "ACH-000330     -0.498351    -1.206278\n",
       "ACH-000352     -0.001375    -1.380529\n",
       "ACH-000374     -0.839191    -0.110450\n",
       "ACH-000573      0.012889     0.037937\n",
       "ACH-000621     -0.127867    -0.065729\n",
       "ACH-000624     -0.263342    -0.198855\n",
       "ACH-000699      0.009881    -0.175258\n",
       "ACH-000711     -0.333715    -0.077267\n",
       "ACH-000721     -0.259024    -0.090316\n",
       "ACH-000725     -1.615954     0.086108\n",
       "ACH-000768     -0.242511    -0.093721\n",
       "ACH-000783     -0.052409    -1.061541\n",
       "ACH-000849     -0.060022    -0.070939\n",
       "ACH-000856     -0.309758     0.040303\n",
       "ACH-000859     -0.181525     0.031900\n",
       "ACH-000876     -0.137595    -1.192376\n",
       "ACH-000910     -1.526256    -0.159646\n",
       "ACH-001390     -0.068894    -0.119224\n",
       "ACH-001391      0.005120    -0.374842\n",
       "ACH-001394     -0.355202    -0.161251\n",
       "ACH-001396      0.526852    -0.035894\n",
       "ACH-001819     -0.129486    -0.493113"
      ]
     },
     "execution_count": 12,
     "metadata": {},
     "output_type": "execute_result"
    }
   ],
   "source": [
    "bc_sample"
   ]
  },
  {
   "cell_type": "code",
   "execution_count": 17,
   "metadata": {},
   "outputs": [],
   "source": [
    "subtype = breast_cancer[breast_cancer['lineage_molecular_subtype'].isin (['HER2_amp','luminal','basal','basal_A','basal_B','luminal_HER2_amp'])]"
   ]
  },
  {
   "cell_type": "code",
   "execution_count": 18,
   "metadata": {},
   "outputs": [],
   "source": [
    "subtype = subtype.set_index(subtype['DepMap_ID'])"
   ]
  },
  {
   "cell_type": "code",
   "execution_count": 21,
   "metadata": {},
   "outputs": [],
   "source": [
    "subtype['ERBB2'] = bc_sample['ERBB2 (2064)']"
   ]
  },
  {
   "cell_type": "code",
   "execution_count": 22,
   "metadata": {},
   "outputs": [],
   "source": [
    "subtype['ESR1'] = bc_sample['ESR1 (2099)']"
   ]
  },
  {
   "cell_type": "code",
   "execution_count": 24,
   "metadata": {},
   "outputs": [],
   "source": [
    "subtype = subtype.dropna().drop(['primary_disease','DepMap_ID'],axis=1)"
   ]
  },
  {
   "cell_type": "code",
   "execution_count": 473,
   "metadata": {},
   "outputs": [],
   "source": [
    "basal = subtype[subtype['lineage_molecular_subtype'].isin(['basal','basal_A','basal_B','luminal_HER2_amp'])].index.tolist()\n",
    "her2 = subtype[subtype['lineage_molecular_subtype'].isin(['HER2_amp'])].index.tolist()\n",
    "luminal = subtype[subtype['lineage_molecular_subtype'].isin(['luminal'])].index.tolist()"
   ]
  },
  {
   "cell_type": "code",
   "execution_count": 27,
   "metadata": {},
   "outputs": [],
   "source": [
    "subtype.loc[basal,'lineage_molecular_subtype'] = 'basal'"
   ]
  },
  {
   "cell_type": "code",
   "execution_count": 28,
   "metadata": {},
   "outputs": [
    {
     "data": {
      "text/html": [
       "<div>\n",
       "<style scoped>\n",
       "    .dataframe tbody tr th:only-of-type {\n",
       "        vertical-align: middle;\n",
       "    }\n",
       "\n",
       "    .dataframe tbody tr th {\n",
       "        vertical-align: top;\n",
       "    }\n",
       "\n",
       "    .dataframe thead th {\n",
       "        text-align: right;\n",
       "    }\n",
       "</style>\n",
       "<table border=\"1\" class=\"dataframe\">\n",
       "  <thead>\n",
       "    <tr style=\"text-align: right;\">\n",
       "      <th></th>\n",
       "      <th>lineage_molecular_subtype</th>\n",
       "      <th>ERBB2</th>\n",
       "      <th>ESR1</th>\n",
       "    </tr>\n",
       "    <tr>\n",
       "      <th>DepMap_ID</th>\n",
       "      <th></th>\n",
       "      <th></th>\n",
       "      <th></th>\n",
       "    </tr>\n",
       "  </thead>\n",
       "  <tbody>\n",
       "    <tr>\n",
       "      <th>ACH-000017</th>\n",
       "      <td>HER2_amp</td>\n",
       "      <td>-1.265227</td>\n",
       "      <td>-0.016796</td>\n",
       "    </tr>\n",
       "    <tr>\n",
       "      <th>ACH-000019</th>\n",
       "      <td>luminal</td>\n",
       "      <td>-0.159680</td>\n",
       "      <td>-1.178090</td>\n",
       "    </tr>\n",
       "    <tr>\n",
       "      <th>ACH-000028</th>\n",
       "      <td>luminal</td>\n",
       "      <td>-0.180980</td>\n",
       "      <td>-0.811218</td>\n",
       "    </tr>\n",
       "    <tr>\n",
       "      <th>ACH-000097</th>\n",
       "      <td>luminal</td>\n",
       "      <td>-0.696371</td>\n",
       "      <td>-0.600623</td>\n",
       "    </tr>\n",
       "    <tr>\n",
       "      <th>ACH-000111</th>\n",
       "      <td>basal</td>\n",
       "      <td>-0.164745</td>\n",
       "      <td>-0.046832</td>\n",
       "    </tr>\n",
       "    <tr>\n",
       "      <th>ACH-000148</th>\n",
       "      <td>basal</td>\n",
       "      <td>-0.136770</td>\n",
       "      <td>-0.000469</td>\n",
       "    </tr>\n",
       "    <tr>\n",
       "      <th>ACH-000212</th>\n",
       "      <td>basal</td>\n",
       "      <td>-0.159076</td>\n",
       "      <td>-0.025404</td>\n",
       "    </tr>\n",
       "    <tr>\n",
       "      <th>ACH-000223</th>\n",
       "      <td>basal</td>\n",
       "      <td>-0.120979</td>\n",
       "      <td>-0.086975</td>\n",
       "    </tr>\n",
       "    <tr>\n",
       "      <th>ACH-000248</th>\n",
       "      <td>HER2_amp</td>\n",
       "      <td>-1.075530</td>\n",
       "      <td>-0.205576</td>\n",
       "    </tr>\n",
       "    <tr>\n",
       "      <th>ACH-000258</th>\n",
       "      <td>basal</td>\n",
       "      <td>-0.007555</td>\n",
       "      <td>0.141011</td>\n",
       "    </tr>\n",
       "    <tr>\n",
       "      <th>ACH-000276</th>\n",
       "      <td>basal</td>\n",
       "      <td>-0.432355</td>\n",
       "      <td>0.041939</td>\n",
       "    </tr>\n",
       "    <tr>\n",
       "      <th>ACH-000277</th>\n",
       "      <td>HER2_amp</td>\n",
       "      <td>-1.894343</td>\n",
       "      <td>-1.171240</td>\n",
       "    </tr>\n",
       "    <tr>\n",
       "      <th>ACH-000288</th>\n",
       "      <td>basal</td>\n",
       "      <td>-0.179868</td>\n",
       "      <td>-0.034729</td>\n",
       "    </tr>\n",
       "    <tr>\n",
       "      <th>ACH-000330</th>\n",
       "      <td>luminal</td>\n",
       "      <td>-0.498351</td>\n",
       "      <td>-1.206278</td>\n",
       "    </tr>\n",
       "    <tr>\n",
       "      <th>ACH-000352</th>\n",
       "      <td>luminal</td>\n",
       "      <td>-0.001375</td>\n",
       "      <td>-1.380529</td>\n",
       "    </tr>\n",
       "    <tr>\n",
       "      <th>ACH-000374</th>\n",
       "      <td>basal</td>\n",
       "      <td>-0.839191</td>\n",
       "      <td>-0.110450</td>\n",
       "    </tr>\n",
       "    <tr>\n",
       "      <th>ACH-000573</th>\n",
       "      <td>basal</td>\n",
       "      <td>0.012889</td>\n",
       "      <td>0.037937</td>\n",
       "    </tr>\n",
       "    <tr>\n",
       "      <th>ACH-000621</th>\n",
       "      <td>basal</td>\n",
       "      <td>-0.127867</td>\n",
       "      <td>-0.065729</td>\n",
       "    </tr>\n",
       "    <tr>\n",
       "      <th>ACH-000624</th>\n",
       "      <td>basal</td>\n",
       "      <td>-0.263342</td>\n",
       "      <td>-0.198855</td>\n",
       "    </tr>\n",
       "    <tr>\n",
       "      <th>ACH-000699</th>\n",
       "      <td>basal</td>\n",
       "      <td>0.009881</td>\n",
       "      <td>-0.175258</td>\n",
       "    </tr>\n",
       "    <tr>\n",
       "      <th>ACH-000711</th>\n",
       "      <td>basal</td>\n",
       "      <td>-0.333715</td>\n",
       "      <td>-0.077267</td>\n",
       "    </tr>\n",
       "    <tr>\n",
       "      <th>ACH-000721</th>\n",
       "      <td>basal</td>\n",
       "      <td>-0.259024</td>\n",
       "      <td>-0.090316</td>\n",
       "    </tr>\n",
       "    <tr>\n",
       "      <th>ACH-000725</th>\n",
       "      <td>HER2_amp</td>\n",
       "      <td>-1.615954</td>\n",
       "      <td>0.086108</td>\n",
       "    </tr>\n",
       "    <tr>\n",
       "      <th>ACH-000768</th>\n",
       "      <td>basal</td>\n",
       "      <td>-0.242511</td>\n",
       "      <td>-0.093721</td>\n",
       "    </tr>\n",
       "    <tr>\n",
       "      <th>ACH-000783</th>\n",
       "      <td>luminal</td>\n",
       "      <td>-0.052409</td>\n",
       "      <td>-1.061541</td>\n",
       "    </tr>\n",
       "    <tr>\n",
       "      <th>ACH-000849</th>\n",
       "      <td>basal</td>\n",
       "      <td>-0.060022</td>\n",
       "      <td>-0.070939</td>\n",
       "    </tr>\n",
       "    <tr>\n",
       "      <th>ACH-000856</th>\n",
       "      <td>basal</td>\n",
       "      <td>-0.309758</td>\n",
       "      <td>0.040303</td>\n",
       "    </tr>\n",
       "    <tr>\n",
       "      <th>ACH-000859</th>\n",
       "      <td>basal</td>\n",
       "      <td>-0.181525</td>\n",
       "      <td>0.031900</td>\n",
       "    </tr>\n",
       "    <tr>\n",
       "      <th>ACH-000876</th>\n",
       "      <td>HER2_amp</td>\n",
       "      <td>-0.137595</td>\n",
       "      <td>-1.192376</td>\n",
       "    </tr>\n",
       "    <tr>\n",
       "      <th>ACH-000910</th>\n",
       "      <td>HER2_amp</td>\n",
       "      <td>-1.526256</td>\n",
       "      <td>-0.159646</td>\n",
       "    </tr>\n",
       "    <tr>\n",
       "      <th>ACH-001390</th>\n",
       "      <td>basal</td>\n",
       "      <td>-0.068894</td>\n",
       "      <td>-0.119224</td>\n",
       "    </tr>\n",
       "    <tr>\n",
       "      <th>ACH-001391</th>\n",
       "      <td>basal</td>\n",
       "      <td>0.005120</td>\n",
       "      <td>-0.374842</td>\n",
       "    </tr>\n",
       "    <tr>\n",
       "      <th>ACH-001394</th>\n",
       "      <td>basal</td>\n",
       "      <td>-0.355202</td>\n",
       "      <td>-0.161251</td>\n",
       "    </tr>\n",
       "    <tr>\n",
       "      <th>ACH-001396</th>\n",
       "      <td>luminal</td>\n",
       "      <td>0.526852</td>\n",
       "      <td>-0.035894</td>\n",
       "    </tr>\n",
       "    <tr>\n",
       "      <th>ACH-001819</th>\n",
       "      <td>luminal</td>\n",
       "      <td>-0.129486</td>\n",
       "      <td>-0.493113</td>\n",
       "    </tr>\n",
       "  </tbody>\n",
       "</table>\n",
       "</div>"
      ],
      "text/plain": [
       "           lineage_molecular_subtype     ERBB2      ESR1\n",
       "DepMap_ID                                               \n",
       "ACH-000017                  HER2_amp -1.265227 -0.016796\n",
       "ACH-000019                   luminal -0.159680 -1.178090\n",
       "ACH-000028                   luminal -0.180980 -0.811218\n",
       "ACH-000097                   luminal -0.696371 -0.600623\n",
       "ACH-000111                     basal -0.164745 -0.046832\n",
       "ACH-000148                     basal -0.136770 -0.000469\n",
       "ACH-000212                     basal -0.159076 -0.025404\n",
       "ACH-000223                     basal -0.120979 -0.086975\n",
       "ACH-000248                  HER2_amp -1.075530 -0.205576\n",
       "ACH-000258                     basal -0.007555  0.141011\n",
       "ACH-000276                     basal -0.432355  0.041939\n",
       "ACH-000277                  HER2_amp -1.894343 -1.171240\n",
       "ACH-000288                     basal -0.179868 -0.034729\n",
       "ACH-000330                   luminal -0.498351 -1.206278\n",
       "ACH-000352                   luminal -0.001375 -1.380529\n",
       "ACH-000374                     basal -0.839191 -0.110450\n",
       "ACH-000573                     basal  0.012889  0.037937\n",
       "ACH-000621                     basal -0.127867 -0.065729\n",
       "ACH-000624                     basal -0.263342 -0.198855\n",
       "ACH-000699                     basal  0.009881 -0.175258\n",
       "ACH-000711                     basal -0.333715 -0.077267\n",
       "ACH-000721                     basal -0.259024 -0.090316\n",
       "ACH-000725                  HER2_amp -1.615954  0.086108\n",
       "ACH-000768                     basal -0.242511 -0.093721\n",
       "ACH-000783                   luminal -0.052409 -1.061541\n",
       "ACH-000849                     basal -0.060022 -0.070939\n",
       "ACH-000856                     basal -0.309758  0.040303\n",
       "ACH-000859                     basal -0.181525  0.031900\n",
       "ACH-000876                  HER2_amp -0.137595 -1.192376\n",
       "ACH-000910                  HER2_amp -1.526256 -0.159646\n",
       "ACH-001390                     basal -0.068894 -0.119224\n",
       "ACH-001391                     basal  0.005120 -0.374842\n",
       "ACH-001394                     basal -0.355202 -0.161251\n",
       "ACH-001396                   luminal  0.526852 -0.035894\n",
       "ACH-001819                   luminal -0.129486 -0.493113"
      ]
     },
     "execution_count": 28,
     "metadata": {},
     "output_type": "execute_result"
    }
   ],
   "source": [
    "subtype"
   ]
  },
  {
   "cell_type": "code",
   "execution_count": 29,
   "metadata": {},
   "outputs": [
    {
     "data": {
      "image/png": "[encoded data removed]",
      "text/plain": [
       "<Figure size 432x288 with 1 Axes>"
      ]
     },
     "metadata": {
      "needs_background": "light"
     },
     "output_type": "display_data"
    }
   ],
   "source": [
    "ax = sns.boxplot(x=\"lineage_molecular_subtype\", y=\"ERBB2\",data=subtype, palette=\"Set3\")"
   ]
  },
  {
   "cell_type": "code",
   "execution_count": 30,
   "metadata": {},
   "outputs": [
    {
     "data": {
      "image/png": "[encoded data removed]",
      "text/plain": [
       "<Figure size 432x288 with 1 Axes>"
      ]
     },
     "metadata": {
      "needs_background": "light"
     },
     "output_type": "display_data"
    }
   ],
   "source": [
    "ax = sns.boxplot(x=\"lineage_molecular_subtype\", y=\"ESR1\",data=subtype, palette=\"Set3\")"
   ]
  },
  {
   "cell_type": "code",
   "execution_count": 382,
   "metadata": {},
   "outputs": [],
   "source": [
    "with open('basal.pkl','rb') as f:\n",
    "    basal_act = pickle.load(f)"
   ]
  },
  {
   "cell_type": "code",
   "execution_count": 474,
   "metadata": {},
   "outputs": [],
   "source": [
    "with open('netics_node_mapping.pkl','rb') as f:\n",
    "    mapping = pickle.load(f)"
   ]
  },
  {
   "cell_type": "code",
   "execution_count": 475,
   "metadata": {},
   "outputs": [],
   "source": [
    "keymap = []\n",
    "for i in mapping.keys():\n",
    "    keymap.append(i)"
   ]
  },
  {
   "cell_type": "code",
   "execution_count": 476,
   "metadata": {},
   "outputs": [
    {
     "data": {
      "text/plain": [
       "6016"
      ]
     },
     "execution_count": 476,
     "metadata": {},
     "output_type": "execute_result"
    }
   ],
   "source": [
    "len(keymap)"
   ]
  },
  {
   "cell_type": "code",
   "execution_count": 477,
   "metadata": {},
   "outputs": [],
   "source": [
    "col = []\n",
    "for i in gene_effect.columns.tolist():\n",
    "    col.append(i.split(\" \")[0])"
   ]
  },
  {
   "cell_type": "code",
   "execution_count": 478,
   "metadata": {},
   "outputs": [],
   "source": [
    "gene_effect.columns = col"
   ]
  },
  {
   "cell_type": "code",
   "execution_count": 479,
   "metadata": {},
   "outputs": [],
   "source": [
    "gene_effect = gene_effect.loc[:,keymap]"
   ]
  },
  {
   "cell_type": "code",
   "execution_count": 480,
   "metadata": {},
   "outputs": [],
   "source": [
    "gene_eff_df = pd.DataFrame(gene_effect.loc[basal,:].mean(0))"
   ]
  },
  {
   "cell_type": "code",
   "execution_count": 481,
   "metadata": {},
   "outputs": [],
   "source": [
    "basal_df = pd.DataFrame(basal_act).T"
   ]
  },
  {
   "cell_type": "code",
   "execution_count": 482,
   "metadata": {},
   "outputs": [],
   "source": [
    "basal_df[1] = keymap"
   ]
  },
  {
   "cell_type": "code",
   "execution_count": 483,
   "metadata": {},
   "outputs": [],
   "source": [
    "basal_df = basal_df.set_index(1)"
   ]
  },
  {
   "cell_type": "code",
   "execution_count": 484,
   "metadata": {},
   "outputs": [],
   "source": [
    "concat = pd.concat([gene_eff_df, basal_df],axis=1)"
   ]
  },
  {
   "cell_type": "code",
   "execution_count": 485,
   "metadata": {},
   "outputs": [],
   "source": [
    "concatna = concat.dropna()"
   ]
  },
  {
   "cell_type": "code",
   "execution_count": 486,
   "metadata": {},
   "outputs": [
    {
     "name": "stdout",
     "output_type": "stream",
     "text": [
      "          0         0\n",
      "0  1.000000 -0.013032\n",
      "0 -0.013032  1.000000\n"
     ]
    }
   ],
   "source": [
    "corr = concatna.corr(method='pearson')\n",
    "print(corr)"
   ]
  },
  {
   "cell_type": "code",
   "execution_count": 487,
   "metadata": {},
   "outputs": [],
   "source": [
    "with open('her2.pkl','rb') as f:\n",
    "    her2_act = pickle.load(f)"
   ]
  },
  {
   "cell_type": "code",
   "execution_count": 488,
   "metadata": {},
   "outputs": [
    {
     "data": {
      "text/plain": [
       "(1, 6016)"
      ]
     },
     "execution_count": 488,
     "metadata": {},
     "output_type": "execute_result"
    }
   ],
   "source": [
    "her2_act.shape"
   ]
  },
  {
   "cell_type": "code",
   "execution_count": 489,
   "metadata": {},
   "outputs": [],
   "source": [
    "gene_eff_her2 = pd.DataFrame(gene_effect.loc[her2,:].mean(0))"
   ]
  },
  {
   "cell_type": "code",
   "execution_count": 463,
   "metadata": {},
   "outputs": [],
   "source": [
    "her2_df = pd.DataFrame(her2_act).T"
   ]
  },
  {
   "cell_type": "code",
   "execution_count": 492,
   "metadata": {},
   "outputs": [],
   "source": [
    "her2_df[1] = keymap"
   ]
  },
  {
   "cell_type": "code",
   "execution_count": 493,
   "metadata": {},
   "outputs": [],
   "source": [
    "her2_df = her2_df.set_index(1)"
   ]
  },
  {
   "cell_type": "code",
   "execution_count": 494,
   "metadata": {},
   "outputs": [],
   "source": [
    "concat_her2 = pd.concat([gene_eff_her2, her2_df],axis=1)"
   ]
  },
  {
   "cell_type": "code",
   "execution_count": 495,
   "metadata": {},
   "outputs": [],
   "source": [
    "concat_her2na = concat_her2.dropna()"
   ]
  },
  {
   "cell_type": "code",
   "execution_count": 496,
   "metadata": {},
   "outputs": [
    {
     "name": "stdout",
     "output_type": "stream",
     "text": [
      "          0         0\n",
      "0  1.000000  0.006704\n",
      "0  0.006704  1.000000\n"
     ]
    }
   ],
   "source": [
    "corr = concat_her2na.corr(method='pearson')\n",
    "print(corr)"
   ]
  },
  {
   "cell_type": "code",
   "execution_count": 422,
   "metadata": {},
   "outputs": [],
   "source": [
    "with open('luminal.pkl','rb') as f:\n",
    "    luminal_act = pickle.load(f)"
   ]
  },
  {
   "cell_type": "code",
   "execution_count": 423,
   "metadata": {},
   "outputs": [],
   "source": [
    "gene_eff_luminal = pd.DataFrame(gene_effect.loc[luminal,:].mean(0))"
   ]
  },
  {
   "cell_type": "code",
   "execution_count": 424,
   "metadata": {},
   "outputs": [],
   "source": [
    "luminal_df = pd.DataFrame(luminal_act).T"
   ]
  },
  {
   "cell_type": "code",
   "execution_count": 425,
   "metadata": {},
   "outputs": [],
   "source": [
    "luminal_df[1] = keymap"
   ]
  },
  {
   "cell_type": "code",
   "execution_count": 426,
   "metadata": {},
   "outputs": [],
   "source": [
    "luminal_df = luminal_df.set_index(1)"
   ]
  },
  {
   "cell_type": "code",
   "execution_count": 427,
   "metadata": {},
   "outputs": [],
   "source": [
    "concat_luminal = pd.concat([gene_eff_luminal, luminal_df],axis=1)"
   ]
  },
  {
   "cell_type": "code",
   "execution_count": 428,
   "metadata": {},
   "outputs": [],
   "source": [
    "concat_luminalna = concat_luminal.dropna()"
   ]
  },
  {
   "cell_type": "code",
   "execution_count": 429,
   "metadata": {},
   "outputs": [
    {
     "name": "stdout",
     "output_type": "stream",
     "text": [
      "          0         0\n",
      "0  1.000000 -0.034269\n",
      "0 -0.034269  1.000000\n"
     ]
    }
   ],
   "source": [
    "corr = concat_luminalna.corr(method='pearson')\n",
    "print(corr)"
   ]
  },
  {
   "cell_type": "code",
   "execution_count": 497,
   "metadata": {},
   "outputs": [],
   "source": [
    "her2t = torch.tensor(her2_act)"
   ]
  },
  {
   "cell_type": "code",
   "execution_count": 498,
   "metadata": {},
   "outputs": [
    {
     "data": {
      "text/plain": [
       "tensor(0.1872)"
      ]
     },
     "execution_count": 498,
     "metadata": {},
     "output_type": "execute_result"
    }
   ],
   "source": [
    "her2t.mean()"
   ]
  },
  {
   "cell_type": "code",
   "execution_count": 499,
   "metadata": {},
   "outputs": [],
   "source": [
    "her2top10 = torch.topk(her2t,10).indices.tolist()\n",
    "her2top10v = torch.topk(her2t,10).values.tolist()"
   ]
  },
  {
   "cell_type": "code",
   "execution_count": 500,
   "metadata": {},
   "outputs": [
    {
     "data": {
      "text/plain": [
       "[[1979, 1989, 1995, 1546, 1142, 2586, 5637, 2945, 3001, 1970]]"
      ]
     },
     "execution_count": 500,
     "metadata": {},
     "output_type": "execute_result"
    }
   ],
   "source": [
    "her2top10"
   ]
  },
  {
   "cell_type": "code",
   "execution_count": 501,
   "metadata": {},
   "outputs": [
    {
     "data": {
      "text/plain": [
       "[[310.9587097167969,\n",
       "  80.24130249023438,\n",
       "  53.54385757446289,\n",
       "  22.75416374206543,\n",
       "  17.732206344604492,\n",
       "  13.899807929992676,\n",
       "  11.136055946350098,\n",
       "  10.886129379272461,\n",
       "  10.450302124023438,\n",
       "  9.510795593261719]]"
      ]
     },
     "execution_count": 501,
     "metadata": {},
     "output_type": "execute_result"
    }
   ],
   "source": [
    "her2top10v"
   ]
  },
  {
   "cell_type": "code",
   "execution_count": null,
   "metadata": {},
   "outputs": [],
   "source": []
  }
 ],
 "metadata": {
  "kernelspec": {
   "display_name": "python (minjae)",
   "language": "python",
   "name": "minjae"
  },
  "language_info": {
   "codemirror_mode": {
    "name": "ipython",
    "version": 3
   },
   "file_extension": ".py",
   "mimetype": "text/x-python",
   "name": "python",
   "nbconvert_exporter": "python",
   "pygments_lexer": "ipython3",
   "version": "3.7.8"
  }
 },
 "nbformat": 4,
 "nbformat_minor": 4
}
