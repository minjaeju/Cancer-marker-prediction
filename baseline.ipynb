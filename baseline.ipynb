{
 "cells": [
  {
   "cell_type": "code",
   "execution_count": 23,
   "metadata": {},
   "outputs": [],
   "source": [
    "import pandas as pd\n",
    "import pickle\n",
    "import numpy as np\n",
    "from sklearn.model_selection import cross_val_predict\n",
    "from sklearn.ensemble import RandomForestClassifier\n",
    "\n",
    "from sklearn.datasets import make_classification\n",
    "from sklearn.metrics import f1_score\n",
    "\n",
    "from sklearn.multiclass import OneVsRestClassifier\n",
    "from sklearn.svm import SVC\n",
    "\n",
    "import xgboost as xgb"
   ]
  },
  {
   "cell_type": "markdown",
   "metadata": {},
   "source": [
    "### Load BRCA data"
   ]
  },
  {
   "cell_type": "code",
   "execution_count": 2,
   "metadata": {},
   "outputs": [
    {
     "data": {
      "text/html": [
       "<div>\n",
       "<style scoped>\n",
       "    .dataframe tbody tr th:only-of-type {\n",
       "        vertical-align: middle;\n",
       "    }\n",
       "\n",
       "    .dataframe tbody tr th {\n",
       "        vertical-align: top;\n",
       "    }\n",
       "\n",
       "    .dataframe thead th {\n",
       "        text-align: right;\n",
       "    }\n",
       "</style>\n",
       "<table border=\"1\" class=\"dataframe\">\n",
       "  <thead>\n",
       "    <tr style=\"text-align: right;\">\n",
       "      <th></th>\n",
       "      <th>TCGA-3C-AAAU-01</th>\n",
       "      <th>TCGA-3C-AALI-01</th>\n",
       "      <th>TCGA-3C-AALJ-01</th>\n",
       "      <th>TCGA-3C-AALK-01</th>\n",
       "      <th>TCGA-4H-AAAK-01</th>\n",
       "      <th>TCGA-5L-AAT0-01</th>\n",
       "      <th>TCGA-5L-AAT1-01</th>\n",
       "      <th>TCGA-5T-A9QA-01</th>\n",
       "      <th>TCGA-A1-A0SB-01</th>\n",
       "      <th>TCGA-A1-A0SD-01</th>\n",
       "      <th>...</th>\n",
       "      <th>TCGA-UL-AAZ6-01</th>\n",
       "      <th>TCGA-UU-A93S-01</th>\n",
       "      <th>TCGA-V7-A7HQ-01</th>\n",
       "      <th>TCGA-W8-A86G-01</th>\n",
       "      <th>TCGA-WT-AB41-01</th>\n",
       "      <th>TCGA-WT-AB44-01</th>\n",
       "      <th>TCGA-XX-A899-01</th>\n",
       "      <th>TCGA-XX-A89A-01</th>\n",
       "      <th>TCGA-Z7-A8R5-01</th>\n",
       "      <th>TCGA-Z7-A8R6-01</th>\n",
       "    </tr>\n",
       "  </thead>\n",
       "  <tbody>\n",
       "    <tr>\n",
       "      <th>A1BG</th>\n",
       "      <td>7.630010</td>\n",
       "      <td>7.897146</td>\n",
       "      <td>8.728725</td>\n",
       "      <td>7.585096</td>\n",
       "      <td>8.076179</td>\n",
       "      <td>7.677873</td>\n",
       "      <td>7.729932</td>\n",
       "      <td>8.300051</td>\n",
       "      <td>5.649592</td>\n",
       "      <td>7.162871</td>\n",
       "      <td>...</td>\n",
       "      <td>5.496785</td>\n",
       "      <td>8.335280</td>\n",
       "      <td>10.012705</td>\n",
       "      <td>9.060797</td>\n",
       "      <td>6.916604</td>\n",
       "      <td>8.883514</td>\n",
       "      <td>7.808774</td>\n",
       "      <td>8.000758</td>\n",
       "      <td>8.783137</td>\n",
       "      <td>7.961896</td>\n",
       "    </tr>\n",
       "    <tr>\n",
       "      <th>A1CF</th>\n",
       "      <td>0.000000</td>\n",
       "      <td>0.000000</td>\n",
       "      <td>0.931002</td>\n",
       "      <td>0.000000</td>\n",
       "      <td>0.511468</td>\n",
       "      <td>0.000000</td>\n",
       "      <td>0.000000</td>\n",
       "      <td>0.606916</td>\n",
       "      <td>0.000000</td>\n",
       "      <td>0.000000</td>\n",
       "      <td>...</td>\n",
       "      <td>0.484602</td>\n",
       "      <td>0.000000</td>\n",
       "      <td>0.000000</td>\n",
       "      <td>0.560324</td>\n",
       "      <td>0.000000</td>\n",
       "      <td>0.000000</td>\n",
       "      <td>0.000000</td>\n",
       "      <td>1.749234</td>\n",
       "      <td>0.000000</td>\n",
       "      <td>0.000000</td>\n",
       "    </tr>\n",
       "    <tr>\n",
       "      <th>A2BP1</th>\n",
       "      <td>0.000000</td>\n",
       "      <td>0.000000</td>\n",
       "      <td>0.000000</td>\n",
       "      <td>0.000000</td>\n",
       "      <td>2.271963</td>\n",
       "      <td>0.665938</td>\n",
       "      <td>0.000000</td>\n",
       "      <td>0.606916</td>\n",
       "      <td>2.460743</td>\n",
       "      <td>0.412294</td>\n",
       "      <td>...</td>\n",
       "      <td>0.000000</td>\n",
       "      <td>0.000000</td>\n",
       "      <td>0.692249</td>\n",
       "      <td>2.637077</td>\n",
       "      <td>2.519013</td>\n",
       "      <td>0.000000</td>\n",
       "      <td>0.478920</td>\n",
       "      <td>1.273277</td>\n",
       "      <td>0.675635</td>\n",
       "      <td>0.000000</td>\n",
       "    </tr>\n",
       "    <tr>\n",
       "      <th>A2LD1</th>\n",
       "      <td>6.699932</td>\n",
       "      <td>6.167209</td>\n",
       "      <td>7.342165</td>\n",
       "      <td>5.988848</td>\n",
       "      <td>7.279566</td>\n",
       "      <td>6.814235</td>\n",
       "      <td>6.686112</td>\n",
       "      <td>7.874177</td>\n",
       "      <td>5.281557</td>\n",
       "      <td>6.084553</td>\n",
       "      <td>...</td>\n",
       "      <td>7.568796</td>\n",
       "      <td>7.820780</td>\n",
       "      <td>6.979354</td>\n",
       "      <td>5.923986</td>\n",
       "      <td>8.290288</td>\n",
       "      <td>5.971102</td>\n",
       "      <td>7.046887</td>\n",
       "      <td>6.338587</td>\n",
       "      <td>6.362838</td>\n",
       "      <td>4.710757</td>\n",
       "    </tr>\n",
       "    <tr>\n",
       "      <th>A2ML1</th>\n",
       "      <td>1.250113</td>\n",
       "      <td>2.419593</td>\n",
       "      <td>0.000000</td>\n",
       "      <td>1.408658</td>\n",
       "      <td>2.138913</td>\n",
       "      <td>1.119821</td>\n",
       "      <td>2.343408</td>\n",
       "      <td>0.000000</td>\n",
       "      <td>2.054328</td>\n",
       "      <td>3.105846</td>\n",
       "      <td>...</td>\n",
       "      <td>7.177123</td>\n",
       "      <td>0.000000</td>\n",
       "      <td>4.088464</td>\n",
       "      <td>1.277271</td>\n",
       "      <td>0.000000</td>\n",
       "      <td>2.909965</td>\n",
       "      <td>0.478920</td>\n",
       "      <td>5.826276</td>\n",
       "      <td>1.760987</td>\n",
       "      <td>2.371754</td>\n",
       "    </tr>\n",
       "    <tr>\n",
       "      <th>...</th>\n",
       "      <td>...</td>\n",
       "      <td>...</td>\n",
       "      <td>...</td>\n",
       "      <td>...</td>\n",
       "      <td>...</td>\n",
       "      <td>...</td>\n",
       "      <td>...</td>\n",
       "      <td>...</td>\n",
       "      <td>...</td>\n",
       "      <td>...</td>\n",
       "      <td>...</td>\n",
       "      <td>...</td>\n",
       "      <td>...</td>\n",
       "      <td>...</td>\n",
       "      <td>...</td>\n",
       "      <td>...</td>\n",
       "      <td>...</td>\n",
       "      <td>...</td>\n",
       "      <td>...</td>\n",
       "      <td>...</td>\n",
       "      <td>...</td>\n",
       "    </tr>\n",
       "    <tr>\n",
       "      <th>ZYX</th>\n",
       "      <td>11.776535</td>\n",
       "      <td>12.426690</td>\n",
       "      <td>12.414619</td>\n",
       "      <td>12.474809</td>\n",
       "      <td>11.981104</td>\n",
       "      <td>12.012968</td>\n",
       "      <td>12.109535</td>\n",
       "      <td>11.654080</td>\n",
       "      <td>12.595195</td>\n",
       "      <td>11.797934</td>\n",
       "      <td>...</td>\n",
       "      <td>12.023927</td>\n",
       "      <td>12.449940</td>\n",
       "      <td>12.656059</td>\n",
       "      <td>12.438674</td>\n",
       "      <td>12.704956</td>\n",
       "      <td>13.417072</td>\n",
       "      <td>12.321677</td>\n",
       "      <td>12.419582</td>\n",
       "      <td>12.704904</td>\n",
       "      <td>11.732813</td>\n",
       "    </tr>\n",
       "    <tr>\n",
       "      <th>ZZEF1</th>\n",
       "      <td>10.888693</td>\n",
       "      <td>10.365941</td>\n",
       "      <td>9.882464</td>\n",
       "      <td>9.611271</td>\n",
       "      <td>9.702025</td>\n",
       "      <td>9.850389</td>\n",
       "      <td>10.464110</td>\n",
       "      <td>10.124202</td>\n",
       "      <td>10.916102</td>\n",
       "      <td>10.321892</td>\n",
       "      <td>...</td>\n",
       "      <td>10.280054</td>\n",
       "      <td>9.075079</td>\n",
       "      <td>9.548103</td>\n",
       "      <td>9.923476</td>\n",
       "      <td>9.127632</td>\n",
       "      <td>9.646832</td>\n",
       "      <td>10.918012</td>\n",
       "      <td>10.490261</td>\n",
       "      <td>9.561121</td>\n",
       "      <td>9.143177</td>\n",
       "    </tr>\n",
       "    <tr>\n",
       "      <th>ZZZ3</th>\n",
       "      <td>10.206351</td>\n",
       "      <td>8.671516</td>\n",
       "      <td>8.995822</td>\n",
       "      <td>9.455058</td>\n",
       "      <td>9.785783</td>\n",
       "      <td>10.053572</td>\n",
       "      <td>9.154482</td>\n",
       "      <td>8.787575</td>\n",
       "      <td>10.489043</td>\n",
       "      <td>10.224725</td>\n",
       "      <td>...</td>\n",
       "      <td>8.283531</td>\n",
       "      <td>8.597667</td>\n",
       "      <td>8.250810</td>\n",
       "      <td>9.768030</td>\n",
       "      <td>8.170257</td>\n",
       "      <td>8.794698</td>\n",
       "      <td>9.390338</td>\n",
       "      <td>9.898916</td>\n",
       "      <td>9.554260</td>\n",
       "      <td>8.855224</td>\n",
       "    </tr>\n",
       "    <tr>\n",
       "      <th>psiTPTE22</th>\n",
       "      <td>1.445356</td>\n",
       "      <td>9.857344</td>\n",
       "      <td>5.184205</td>\n",
       "      <td>6.079197</td>\n",
       "      <td>7.556383</td>\n",
       "      <td>6.427212</td>\n",
       "      <td>5.879331</td>\n",
       "      <td>2.220670</td>\n",
       "      <td>9.111956</td>\n",
       "      <td>6.443182</td>\n",
       "      <td>...</td>\n",
       "      <td>3.558145</td>\n",
       "      <td>3.041926</td>\n",
       "      <td>8.169826</td>\n",
       "      <td>7.789327</td>\n",
       "      <td>4.877312</td>\n",
       "      <td>9.503634</td>\n",
       "      <td>6.635540</td>\n",
       "      <td>7.884100</td>\n",
       "      <td>7.906453</td>\n",
       "      <td>4.451449</td>\n",
       "    </tr>\n",
       "    <tr>\n",
       "      <th>tAKR</th>\n",
       "      <td>0.000000</td>\n",
       "      <td>0.000000</td>\n",
       "      <td>0.000000</td>\n",
       "      <td>0.000000</td>\n",
       "      <td>0.000000</td>\n",
       "      <td>0.000000</td>\n",
       "      <td>0.000000</td>\n",
       "      <td>0.000000</td>\n",
       "      <td>0.000000</td>\n",
       "      <td>0.000000</td>\n",
       "      <td>...</td>\n",
       "      <td>0.000000</td>\n",
       "      <td>0.000000</td>\n",
       "      <td>0.000000</td>\n",
       "      <td>0.000000</td>\n",
       "      <td>0.000000</td>\n",
       "      <td>0.000000</td>\n",
       "      <td>0.000000</td>\n",
       "      <td>0.959548</td>\n",
       "      <td>0.000000</td>\n",
       "      <td>0.000000</td>\n",
       "    </tr>\n",
       "  </tbody>\n",
       "</table>\n",
       "<p>20502 rows × 1212 columns</p>\n",
       "</div>"
      ],
      "text/plain": [
       "           TCGA-3C-AAAU-01  TCGA-3C-AALI-01  TCGA-3C-AALJ-01  TCGA-3C-AALK-01  \\\n",
       "A1BG              7.630010         7.897146         8.728725         7.585096   \n",
       "A1CF              0.000000         0.000000         0.931002         0.000000   \n",
       "A2BP1             0.000000         0.000000         0.000000         0.000000   \n",
       "A2LD1             6.699932         6.167209         7.342165         5.988848   \n",
       "A2ML1             1.250113         2.419593         0.000000         1.408658   \n",
       "...                    ...              ...              ...              ...   \n",
       "ZYX              11.776535        12.426690        12.414619        12.474809   \n",
       "ZZEF1            10.888693        10.365941         9.882464         9.611271   \n",
       "ZZZ3             10.206351         8.671516         8.995822         9.455058   \n",
       "psiTPTE22         1.445356         9.857344         5.184205         6.079197   \n",
       "tAKR              0.000000         0.000000         0.000000         0.000000   \n",
       "\n",
       "           TCGA-4H-AAAK-01  TCGA-5L-AAT0-01  TCGA-5L-AAT1-01  TCGA-5T-A9QA-01  \\\n",
       "A1BG              8.076179         7.677873         7.729932         8.300051   \n",
       "A1CF              0.511468         0.000000         0.000000         0.606916   \n",
       "A2BP1             2.271963         0.665938         0.000000         0.606916   \n",
       "A2LD1             7.279566         6.814235         6.686112         7.874177   \n",
       "A2ML1             2.138913         1.119821         2.343408         0.000000   \n",
       "...                    ...              ...              ...              ...   \n",
       "ZYX              11.981104        12.012968        12.109535        11.654080   \n",
       "ZZEF1             9.702025         9.850389        10.464110        10.124202   \n",
       "ZZZ3              9.785783        10.053572         9.154482         8.787575   \n",
       "psiTPTE22         7.556383         6.427212         5.879331         2.220670   \n",
       "tAKR              0.000000         0.000000         0.000000         0.000000   \n",
       "\n",
       "           TCGA-A1-A0SB-01  TCGA-A1-A0SD-01  ...  TCGA-UL-AAZ6-01  \\\n",
       "A1BG              5.649592         7.162871  ...         5.496785   \n",
       "A1CF              0.000000         0.000000  ...         0.484602   \n",
       "A2BP1             2.460743         0.412294  ...         0.000000   \n",
       "A2LD1             5.281557         6.084553  ...         7.568796   \n",
       "A2ML1             2.054328         3.105846  ...         7.177123   \n",
       "...                    ...              ...  ...              ...   \n",
       "ZYX              12.595195        11.797934  ...        12.023927   \n",
       "ZZEF1            10.916102        10.321892  ...        10.280054   \n",
       "ZZZ3             10.489043        10.224725  ...         8.283531   \n",
       "psiTPTE22         9.111956         6.443182  ...         3.558145   \n",
       "tAKR              0.000000         0.000000  ...         0.000000   \n",
       "\n",
       "           TCGA-UU-A93S-01  TCGA-V7-A7HQ-01  TCGA-W8-A86G-01  TCGA-WT-AB41-01  \\\n",
       "A1BG              8.335280        10.012705         9.060797         6.916604   \n",
       "A1CF              0.000000         0.000000         0.560324         0.000000   \n",
       "A2BP1             0.000000         0.692249         2.637077         2.519013   \n",
       "A2LD1             7.820780         6.979354         5.923986         8.290288   \n",
       "A2ML1             0.000000         4.088464         1.277271         0.000000   \n",
       "...                    ...              ...              ...              ...   \n",
       "ZYX              12.449940        12.656059        12.438674        12.704956   \n",
       "ZZEF1             9.075079         9.548103         9.923476         9.127632   \n",
       "ZZZ3              8.597667         8.250810         9.768030         8.170257   \n",
       "psiTPTE22         3.041926         8.169826         7.789327         4.877312   \n",
       "tAKR              0.000000         0.000000         0.000000         0.000000   \n",
       "\n",
       "           TCGA-WT-AB44-01  TCGA-XX-A899-01  TCGA-XX-A89A-01  TCGA-Z7-A8R5-01  \\\n",
       "A1BG              8.883514         7.808774         8.000758         8.783137   \n",
       "A1CF              0.000000         0.000000         1.749234         0.000000   \n",
       "A2BP1             0.000000         0.478920         1.273277         0.675635   \n",
       "A2LD1             5.971102         7.046887         6.338587         6.362838   \n",
       "A2ML1             2.909965         0.478920         5.826276         1.760987   \n",
       "...                    ...              ...              ...              ...   \n",
       "ZYX              13.417072        12.321677        12.419582        12.704904   \n",
       "ZZEF1             9.646832        10.918012        10.490261         9.561121   \n",
       "ZZZ3              8.794698         9.390338         9.898916         9.554260   \n",
       "psiTPTE22         9.503634         6.635540         7.884100         7.906453   \n",
       "tAKR              0.000000         0.000000         0.959548         0.000000   \n",
       "\n",
       "           TCGA-Z7-A8R6-01  \n",
       "A1BG              7.961896  \n",
       "A1CF              0.000000  \n",
       "A2BP1             0.000000  \n",
       "A2LD1             4.710757  \n",
       "A2ML1             2.371754  \n",
       "...                    ...  \n",
       "ZYX              11.732813  \n",
       "ZZEF1             9.143177  \n",
       "ZZZ3              8.855224  \n",
       "psiTPTE22         4.451449  \n",
       "tAKR              0.000000  \n",
       "\n",
       "[20502 rows x 1212 columns]"
      ]
     },
     "execution_count": 2,
     "metadata": {},
     "output_type": "execute_result"
    }
   ],
   "source": [
    "exp_file = \"./data/exp/tcga_brca_mRNAseq_RSEM_normalized_log2_plus1_preprocessed.pkl\"\n",
    "exp_df = pd.read_pickle(exp_file)\n",
    "exp_df"
   ]
  },
  {
   "cell_type": "markdown",
   "metadata": {},
   "source": [
    "### Load BRCA label"
   ]
  },
  {
   "cell_type": "code",
   "execution_count": 24,
   "metadata": {},
   "outputs": [],
   "source": [
    "label_file = \"./data/exp/tcga_brca_pam50_refine.csv\"\n",
    "label_mapping = {\"LumA\":0 , \"LumB\":1 , \"Her2\":2, \"Basal\":3, \"Normal\":4}\n",
    "label_df = pd.read_csv(\"./data/exp/tcga_brca_pam50_refine.csv\",index_col=0)\n",
    "label_df['Subtype_index'] = list(map(lambda x:label_mapping[x],label_df['Subtype']))\n",
    "label_dict = dict(zip(label_df.index, label_df['Subtype_index']))"
   ]
  },
  {
   "cell_type": "markdown",
   "metadata": {},
   "source": [
    "### Load Node genes"
   ]
  },
  {
   "cell_type": "code",
   "execution_count": 31,
   "metadata": {},
   "outputs": [],
   "source": [
    "node_gene_file = \"./data/preprocessed/tcga_brca_gene_mapping.pkl\"\n",
    "f = open(node_gene_file,'rb')\n",
    "node_genes = list(pickle.load(f).keys())\n",
    "f.close()"
   ]
  },
  {
   "cell_type": "code",
   "execution_count": 32,
   "metadata": {},
   "outputs": [
    {
     "data": {
      "text/plain": [
       "9630"
      ]
     },
     "execution_count": 32,
     "metadata": {},
     "output_type": "execute_result"
    }
   ],
   "source": [
    "len(node_genes)"
   ]
  },
  {
   "cell_type": "markdown",
   "metadata": {},
   "source": [
    "### Data preparation"
   ]
  },
  {
   "cell_type": "code",
   "execution_count": 9,
   "metadata": {},
   "outputs": [],
   "source": [
    "X = exp_df.T\n",
    "X = X.sample(frac=1)\n",
    "#X = X.loc[:, node_genes]"
   ]
  },
  {
   "cell_type": "code",
   "execution_count": 10,
   "metadata": {},
   "outputs": [],
   "source": [
    "y = list(map(lambda x:label_dict[x], X.index))"
   ]
  },
  {
   "cell_type": "code",
   "execution_count": 11,
   "metadata": {},
   "outputs": [
    {
     "data": {
      "text/plain": [
       "(1212, 9630)"
      ]
     },
     "execution_count": 11,
     "metadata": {},
     "output_type": "execute_result"
    }
   ],
   "source": [
    "X.shape"
   ]
  },
  {
   "cell_type": "markdown",
   "metadata": {},
   "source": [
    "### Cross validation"
   ]
  },
  {
   "cell_type": "code",
   "execution_count": 12,
   "metadata": {},
   "outputs": [],
   "source": [
    "model = RandomForestClassifier(n_estimators=500)\n",
    "#model = OneVsRestClassifier(SVC(random_state=0))\n",
    "#model = xgb.XGBClassifier()"
   ]
  },
  {
   "cell_type": "code",
   "execution_count": 8,
   "metadata": {},
   "outputs": [],
   "source": [
    "y_pred = cross_val_predict(model, X, y, cv=10,n_jobs=4)"
   ]
  },
  {
   "cell_type": "code",
   "execution_count": 9,
   "metadata": {},
   "outputs": [
    {
     "data": {
      "text/plain": [
       "0.885983677286554"
      ]
     },
     "execution_count": 9,
     "metadata": {},
     "output_type": "execute_result"
    }
   ],
   "source": [
    "f1_score(y, y_pred, average='weighted')"
   ]
  },
  {
   "cell_type": "code",
   "execution_count": 10,
   "metadata": {},
   "outputs": [
    {
     "data": {
      "text/plain": [
       "(1212, 20502)"
      ]
     },
     "execution_count": 10,
     "metadata": {},
     "output_type": "execute_result"
    }
   ],
   "source": [
    "X.shape"
   ]
  },
  {
   "cell_type": "code",
   "execution_count": null,
   "metadata": {},
   "outputs": [],
   "source": []
  },
  {
   "cell_type": "markdown",
   "metadata": {},
   "source": [
    "### Load pre-CV dataset "
   ]
  },
  {
   "cell_type": "code",
   "execution_count": 25,
   "metadata": {},
   "outputs": [],
   "source": [
    "baseline_dataset_file = \"./data/preprocessed/tcga_brca_baseline_dataset.pkl\"\n",
    "f = open(baseline_dataset_file,'rb')\n",
    "baseline_dataset = pickle.load(f)\n",
    "f.close()\n",
    "\n",
    "exp_df = baseline_dataset['exp_data']\n",
    "train_index_list = baseline_dataset['train_index']\n",
    "test_index_list = baseline_dataset['test_index']\n",
    "label_dict = baseline_dataset['labels']"
   ]
  },
  {
   "cell_type": "code",
   "execution_count": 26,
   "metadata": {},
   "outputs": [
    {
     "name": "stdout",
     "output_type": "stream",
     "text": [
      "0 : 0.8697179164228643\n",
      "1 : 0.9345027994726011\n",
      "2 : 0.9336631747698941\n",
      "3 : 0.9753015429583931\n",
      "4 : 0.9249755668772454\n",
      "5 : 0.9158950511249693\n",
      "6 : 0.9075074628928383\n",
      "7 : 0.9177985083381487\n",
      "8 : 0.893100564576516\n",
      "9 : 0.9258080590342894\n",
      "0.9198270646467762\n"
     ]
    }
   ],
   "source": [
    "f1_list = []\n",
    "for i in [0,1,2,3,4,5,6,7,8,9]:\n",
    "    train_index, test_index = train_index_list[i], test_index_list[i]\n",
    "    X_train,X_test = exp_df.iloc[:,train_index], exp_df.iloc[:,test_index]\n",
    "    y_train = list(map(lambda x:label_dict[x], X_train.columns.tolist()))\n",
    "    y_test = list(map(lambda x:label_dict[x], X_test.columns.tolist()))\n",
    "\n",
    "    X_train,X_test = X_train.T, X_test.T\n",
    "    #X_train = X_train.sample(frac=1)\n",
    "\n",
    "    model = xgb.XGBClassifier()\n",
    "    model.fit(X_train.values, y_train)\n",
    "    y_pred = model.predict(X_test.values)\n",
    "    f1_list.append(f1_score(y_test, y_pred, average=\"weighted\"))\n",
    "                   \n",
    "    print(i,\":\",f1_score(y_test, y_pred, average='weighted'))\n",
    "                   \n",
    "print(sum(f1_list)/len(f1_list))"
   ]
  },
  {
   "cell_type": "code",
   "execution_count": 13,
   "metadata": {},
   "outputs": [],
   "source": [
    "#pagerank\n",
    "baseline_dataset_file = \"./data/preprocessed/tcga_brca_baseline_dataset_pagerank.pkl\"\n",
    "f = open(baseline_dataset_file,'rb')\n",
    "baseline_dataset = pickle.load(f)\n",
    "f.close()\n",
    "\n",
    "exp_df = baseline_dataset['exp_data']\n",
    "train_index_list = baseline_dataset['train_index']\n",
    "test_index_list = baseline_dataset['test_index']\n",
    "label_dict = baseline_dataset['labels']"
   ]
  },
  {
   "cell_type": "code",
   "execution_count": 14,
   "metadata": {},
   "outputs": [
    {
     "name": "stderr",
     "output_type": "stream",
     "text": [
      "/home/minjae/miniconda3/envs/minjae/lib/python3.7/site-packages/sklearn/metrics/classification.py:1437: UndefinedMetricWarning: F-score is ill-defined and being set to 0.0 in labels with no predicted samples.\n",
      "  'precision', 'predicted', average, warn_for)\n"
     ]
    },
    {
     "name": "stdout",
     "output_type": "stream",
     "text": [
      "0 : 0.8199708454810496\n",
      "1 : 0.9492882823391298\n",
      "2 : 0.861748644158124\n",
      "3 : 0.8979591836734694\n",
      "4 : 0.8843257908846409\n",
      "5 : 0.8995506205842416\n",
      "6 : 0.8765460729746443\n",
      "7 : 0.8668982288745983\n",
      "8 : 0.8942482083428713\n",
      "9 : 0.925784008979956\n",
      "0.8876319886292725\n"
     ]
    }
   ],
   "source": [
    "#pagerank\n",
    "f1_list = []\n",
    "for i in [0,1,2,3,4,5,6,7,8,9]:\n",
    "    train_index, test_index = train_index_list[i], test_index_list[i]\n",
    "    X_train,X_test = exp_df.iloc[:,train_index], exp_df.iloc[:,test_index]\n",
    "    y_train = list(map(lambda x:label_dict[x], X_train.columns.tolist()))\n",
    "    y_test = list(map(lambda x:label_dict[x], X_test.columns.tolist()))\n",
    "\n",
    "    X_train,X_test = X_train.T, X_test.T\n",
    "    #X_train = X_train.sample(frac=1)\n",
    "\n",
    "    model = xgb.XGBClassifier()\n",
    "    model.fit(X_train.values, y_train)\n",
    "    y_pred = model.predict(X_test.values)\n",
    "    f1_list.append(f1_score(y_test, y_pred, average=\"weighted\"))\n",
    "                   \n",
    "    print(i,\":\",f1_score(y_test, y_pred, average='weighted'))\n",
    "                   \n",
    "print(sum(f1_list)/len(f1_list))"
   ]
  },
  {
   "cell_type": "code",
   "execution_count": 36,
   "metadata": {},
   "outputs": [],
   "source": [
    "#ori_netics\n",
    "baseline_dataset_file = \"./data/preprocessed/tcga_brca_baseline_dataset_ori_exp.pkl\"\n",
    "f = open(baseline_dataset_file,'rb')\n",
    "baseline_dataset = pickle.load(f)\n",
    "f.close()\n",
    "\n",
    "exp_df = baseline_dataset['exp_data']\n",
    "train_index_list = baseline_dataset['train_index']\n",
    "test_index_list = baseline_dataset['test_index']\n",
    "label_dict = baseline_dataset['labels']"
   ]
  },
  {
   "cell_type": "code",
   "execution_count": 37,
   "metadata": {},
   "outputs": [
    {
     "name": "stdout",
     "output_type": "stream",
     "text": [
      "0 : 0.8335352545237598\n",
      "1 : 0.9590506345954289\n",
      "2 : 0.8765914643883458\n",
      "3 : 0.8661373363935241\n",
      "4 : 0.9243593467195952\n",
      "5 : 0.8899296560729555\n",
      "6 : 0.8863842506699648\n",
      "7 : 0.8772446091855627\n",
      "8 : 0.8945578231292517\n",
      "9 : 0.8953177502058357\n",
      "0.8903108125884224\n"
     ]
    }
   ],
   "source": [
    "#ori_netics\n",
    "f1_list = []\n",
    "for i in [0,1,2,3,4,5,6,7,8,9]:\n",
    "    train_index, test_index = train_index_list[i], test_index_list[i]\n",
    "    X_train,X_test = exp_df.iloc[:,train_index], exp_df.iloc[:,test_index]\n",
    "    y_train = list(map(lambda x:label_dict[x], X_train.columns.tolist()))\n",
    "    y_test = list(map(lambda x:label_dict[x], X_test.columns.tolist()))\n",
    "\n",
    "    X_train,X_test = X_train.T, X_test.T\n",
    "    #X_train = X_train.sample(frac=1)\n",
    "\n",
    "    model = xgb.XGBClassifier()\n",
    "    model.fit(X_train.values, y_train)\n",
    "    y_pred = model.predict(X_test.values)\n",
    "    f1_list.append(f1_score(y_test, y_pred, average=\"weighted\"))\n",
    "                   \n",
    "    print(i,\":\",f1_score(y_test, y_pred, average='weighted'))\n",
    "                   \n",
    "print(sum(f1_list)/len(f1_list))"
   ]
  },
  {
   "cell_type": "markdown",
   "metadata": {},
   "source": [
    "### Feature importance 분석"
   ]
  },
  {
   "cell_type": "code",
   "execution_count": 27,
   "metadata": {},
   "outputs": [],
   "source": [
    "importance = pd.Series(model.feature_importances_,index=X_train.columns)"
   ]
  },
  {
   "cell_type": "code",
   "execution_count": 28,
   "metadata": {},
   "outputs": [
    {
     "data": {
      "text/plain": [
       "0       0.001021\n",
       "1       0.000266\n",
       "2       0.000616\n",
       "3       0.000791\n",
       "4       0.000000\n",
       "          ...   \n",
       "9625    0.000000\n",
       "9626    0.000000\n",
       "9627    0.000000\n",
       "9628    0.000000\n",
       "9629    0.000000\n",
       "Length: 9630, dtype: float32"
      ]
     },
     "execution_count": 28,
     "metadata": {},
     "output_type": "execute_result"
    }
   ],
   "source": [
    "importance"
   ]
  },
  {
   "cell_type": "code",
   "execution_count": 29,
   "metadata": {},
   "outputs": [],
   "source": [
    "indexlist=importance.sort_values(ascending=False)[0:100].index"
   ]
  },
  {
   "cell_type": "code",
   "execution_count": 34,
   "metadata": {},
   "outputs": [
    {
     "data": {
      "text/plain": [
       "['LMOD1',\n",
       " 'SFRP1',\n",
       " 'NCAPG',\n",
       " 'ECE2',\n",
       " 'SPRY2',\n",
       " 'GATA3',\n",
       " 'MLPH',\n",
       " 'ERBB2',\n",
       " 'CFB',\n",
       " 'ACE2',\n",
       " 'WWP1',\n",
       " 'TBC1D9',\n",
       " 'PLK1',\n",
       " 'DMD',\n",
       " 'ADCYAP1R1',\n",
       " 'UHRF1',\n",
       " 'KPNA4',\n",
       " 'COL10A1',\n",
       " 'CHST3',\n",
       " 'TPX2',\n",
       " 'PTPRF',\n",
       " 'CENPA',\n",
       " 'USP44',\n",
       " 'HOXA4',\n",
       " 'CEP55',\n",
       " 'KIF4A',\n",
       " 'KRT5',\n",
       " 'NSL1',\n",
       " 'CXCL13',\n",
       " 'ACTG2',\n",
       " 'ACTA2',\n",
       " 'MYL7',\n",
       " 'FOXA1',\n",
       " 'GALT',\n",
       " 'G6PD',\n",
       " 'LYPLA1',\n",
       " 'ESR1',\n",
       " 'ANXA8',\n",
       " 'ELOVL1',\n",
       " 'EIF2AK2',\n",
       " 'SCN4B',\n",
       " 'CCNA2',\n",
       " 'SLC9A3R1',\n",
       " 'GTSE1',\n",
       " 'HIST1H2BD',\n",
       " 'AURKA',\n",
       " 'SERPINB5',\n",
       " 'PRODH',\n",
       " 'ANGPT1',\n",
       " 'SLC7A5',\n",
       " 'SOSTDC1',\n",
       " 'TRIM29',\n",
       " 'ACSL4',\n",
       " 'ASAP3',\n",
       " 'STBD1',\n",
       " 'C10orf95',\n",
       " 'BIRC5',\n",
       " 'FOLR2',\n",
       " 'KLHL7',\n",
       " 'PLAU',\n",
       " 'KIFC1',\n",
       " 'SLC25A27',\n",
       " 'GPR3',\n",
       " 'DNAJC1',\n",
       " 'CDC45',\n",
       " 'NEFM',\n",
       " 'LZTS1',\n",
       " 'ANLN',\n",
       " 'RGS20',\n",
       " 'APOC1',\n",
       " 'HPN',\n",
       " 'SLC22A5',\n",
       " 'CDC25C',\n",
       " 'GPR182',\n",
       " 'EXOSC7',\n",
       " 'NEU1',\n",
       " 'KRT14',\n",
       " 'GGCX',\n",
       " 'STC2',\n",
       " 'IRAK3',\n",
       " 'FOXC1',\n",
       " 'EZH1',\n",
       " 'USP36',\n",
       " 'GRB7',\n",
       " 'ITGA3',\n",
       " 'AQP4',\n",
       " 'CDKN3',\n",
       " 'MIR17HG',\n",
       " 'TRAPPC9',\n",
       " 'UBE2C',\n",
       " 'PSAT1',\n",
       " 'SKA1',\n",
       " 'SERPINA3',\n",
       " 'CLDN19',\n",
       " 'DSC3',\n",
       " 'SERPINA6',\n",
       " 'MMACHC',\n",
       " 'TOX4',\n",
       " 'ACO1',\n",
       " 'CBLN3']"
      ]
     },
     "execution_count": 34,
     "metadata": {},
     "output_type": "execute_result"
    }
   ],
   "source": [
    "importance = []\n",
    "for i in indexlist:\n",
    "    importance.append(node_genes[i])\n",
    "importance"
   ]
  },
  {
   "cell_type": "code",
   "execution_count": 15,
   "metadata": {},
   "outputs": [],
   "source": [
    "importance = pd.Series(model.feature_importances_,index=X_train.columns)"
   ]
  },
  {
   "cell_type": "code",
   "execution_count": 16,
   "metadata": {},
   "outputs": [
    {
     "data": {
      "text/plain": [
       "0       0.000000\n",
       "1       0.002228\n",
       "2       0.000000\n",
       "3       0.000000\n",
       "4       0.000000\n",
       "          ...   \n",
       "6011    0.000000\n",
       "6012    0.000000\n",
       "6013    0.000000\n",
       "6014    0.000000\n",
       "6015    0.000000\n",
       "Length: 6016, dtype: float32"
      ]
     },
     "execution_count": 16,
     "metadata": {},
     "output_type": "execute_result"
    }
   ],
   "source": [
    "importance"
   ]
  },
  {
   "cell_type": "code",
   "execution_count": 19,
   "metadata": {},
   "outputs": [],
   "source": [
    "indexlist=importance.sort_values(ascending=False)[0:100].index"
   ]
  },
  {
   "cell_type": "code",
   "execution_count": 18,
   "metadata": {},
   "outputs": [],
   "source": [
    "#pagerank\n",
    "with open('./data/preprocessed/netics_node_mapping.pkl', 'rb') as f:\n",
    "    mapping = pickle.load(f)"
   ]
  },
  {
   "cell_type": "code",
   "execution_count": 21,
   "metadata": {},
   "outputs": [],
   "source": [
    "importance=[]\n",
    "for i in indexlist:\n",
    "    importance.append(list(mapping.items())[i])"
   ]
  },
  {
   "cell_type": "code",
   "execution_count": 22,
   "metadata": {},
   "outputs": [
    {
     "data": {
      "text/plain": [
       "[('AURKA', 358),\n",
       " ('FOXA1', 1783),\n",
       " ('DST', 1396),\n",
       " ('CENPA', 814),\n",
       " ('SFRP1', 5001),\n",
       " ('CCNB1', 647),\n",
       " ('CDT1', 801),\n",
       " ('UBB', 5757),\n",
       " ('MET', 3037),\n",
       " ('CHRNA6', 897),\n",
       " ('ERBB2', 1577),\n",
       " ('CCNA2', 646),\n",
       " ('ITPR2', 2572),\n",
       " ('LBP', 2775),\n",
       " ('EGFR', 1465),\n",
       " ('CCL21', 632),\n",
       " ('GATA3', 1897),\n",
       " ('CELSR3', 813),\n",
       " ('RACGAP1', 4578),\n",
       " ('ATF6', 308),\n",
       " ('TFAP2A', 5495),\n",
       " ('NDN', 3312),\n",
       " ('APEX1', 186),\n",
       " ('ST3GAL1', 5276),\n",
       " ('PRC1', 4367),\n",
       " ('ESR1', 1597),\n",
       " ('KPNA2', 2750),\n",
       " ('VEGFC', 5871),\n",
       " ('NDC80', 3309),\n",
       " ('FOXM1', 1788),\n",
       " ('CDC25B', 737),\n",
       " ('IGF2', 2390),\n",
       " ('FANCD2', 1666),\n",
       " ('BCL6', 413),\n",
       " ('MYH11', 3233),\n",
       " ('IRAK2', 2519),\n",
       " ('MRPL46', 3136),\n",
       " ('MC2R', 2975),\n",
       " ('XBP1', 5946),\n",
       " ('PTGS2', 4503),\n",
       " ('CCNB2', 648),\n",
       " ('CRMP1', 1091),\n",
       " ('CXCL12', 1166),\n",
       " ('KIR3DL1', 2709),\n",
       " ('BCL2L2', 411),\n",
       " ('NCAPH', 3283),\n",
       " ('PRKCH', 4398),\n",
       " ('NEFM', 3323),\n",
       " ('EDNRB', 1442),\n",
       " ('LTBP4', 2874),\n",
       " ('TP63', 5641),\n",
       " ('NGFR', 3359),\n",
       " ('CHMP4C', 880),\n",
       " ('PPBP', 4307),\n",
       " ('WWC1', 5941),\n",
       " ('CDK2', 780),\n",
       " ('TNFRSF10A', 5589),\n",
       " ('CCKBR', 623),\n",
       " ('VAV3', 5859),\n",
       " ('E2F1', 1423),\n",
       " ('CDC45', 745),\n",
       " ('WNT5A', 5929),\n",
       " ('SERPIND1', 4980),\n",
       " ('CTCF', 1131),\n",
       " ('IRF7', 2529),\n",
       " ('NTRK3', 3491),\n",
       " ('CGA', 860),\n",
       " ('SELE', 4952),\n",
       " ('CREB5', 1082),\n",
       " ('TAC1', 5371),\n",
       " ('NLK', 3373),\n",
       " ('MYH9', 3244),\n",
       " ('ADCY3', 71),\n",
       " ('FGFR4', 1746),\n",
       " ('CTLA4', 1137),\n",
       " ('RFC2', 4671),\n",
       " ('FMR1', 1775),\n",
       " ('TUBA1C', 5714),\n",
       " ('IGFBP5', 2396),\n",
       " ('PTTG1', 4532),\n",
       " ('LIF', 2795),\n",
       " ('PROS1', 4422),\n",
       " ('BLM', 438),\n",
       " ('EPHA7', 1561),\n",
       " ('ABCA1', 5),\n",
       " ('SDC1', 4928),\n",
       " ('IL6ST', 2475),\n",
       " ('MMS19', 3083),\n",
       " ('CHRNA3', 894),\n",
       " ('ADCY9', 77),\n",
       " ('PLAU', 4204),\n",
       " ('PLCG1', 4214),\n",
       " ('AREG', 212),\n",
       " ('ATP1A2', 320),\n",
       " ('GRPR', 2080),\n",
       " ('AGT', 110),\n",
       " ('ARAP3', 209),\n",
       " ('FGG', 1747),\n",
       " ('POLD2', 4255),\n",
       " ('NOTCH1', 3402)]"
      ]
     },
     "execution_count": 22,
     "metadata": {},
     "output_type": "execute_result"
    }
   ],
   "source": [
    "importance"
   ]
  },
  {
   "cell_type": "code",
   "execution_count": 38,
   "metadata": {},
   "outputs": [],
   "source": [
    "#ori_netics\n",
    "importance = pd.Series(model.feature_importances_,index=X_train.columns)"
   ]
  },
  {
   "cell_type": "code",
   "execution_count": 39,
   "metadata": {},
   "outputs": [
    {
     "data": {
      "text/plain": [
       "0       0.000000\n",
       "1       0.001734\n",
       "2       0.000315\n",
       "3       0.000000\n",
       "4       0.000000\n",
       "          ...   \n",
       "6011    0.000000\n",
       "6012    0.000000\n",
       "6013    0.000142\n",
       "6014    0.000000\n",
       "6015    0.000000\n",
       "Length: 6016, dtype: float32"
      ]
     },
     "execution_count": 39,
     "metadata": {},
     "output_type": "execute_result"
    }
   ],
   "source": [
    "importance"
   ]
  },
  {
   "cell_type": "code",
   "execution_count": 40,
   "metadata": {},
   "outputs": [],
   "source": [
    "indexlist=importance.sort_values(ascending=False)[0:100].index"
   ]
  },
  {
   "cell_type": "code",
   "execution_count": 41,
   "metadata": {},
   "outputs": [],
   "source": [
    "importance=[]\n",
    "for i in indexlist:\n",
    "    importance.append(list(mapping.items())[i])"
   ]
  },
  {
   "cell_type": "code",
   "execution_count": 42,
   "metadata": {},
   "outputs": [
    {
     "data": {
      "text/plain": [
       "[('SFRP1', 5001),\n",
       " ('NCAPG', 3281),\n",
       " ('FOXA1', 1783),\n",
       " ('ERBB2', 1577),\n",
       " ('FANCA', 1663),\n",
       " ('IL1B', 2446),\n",
       " ('DUSP7', 1403),\n",
       " ('GATA3', 1897),\n",
       " ('CCNA2', 646),\n",
       " ('TPX2', 5649),\n",
       " ('DST', 1396),\n",
       " ('TGFBR3', 5517),\n",
       " ('ZP2', 6007),\n",
       " ('MSI2', 3184),\n",
       " ('PAK7', 3993),\n",
       " ('CCR7', 669),\n",
       " ('LMOD1', 2829),\n",
       " ('PTPRF', 4525),\n",
       " ('NUP85', 3517),\n",
       " ('CISH', 912),\n",
       " ('PPP1R1B', 4333),\n",
       " ('NOS1AP', 3397),\n",
       " ('FANCB', 1664),\n",
       " ('NCAPH', 3283),\n",
       " ('ESR1', 1597),\n",
       " ('SF3A3', 4992),\n",
       " ('BIRC5', 434),\n",
       " ('DFFA', 1244),\n",
       " ('UNC5A', 5794),\n",
       " ('NEFM', 3323),\n",
       " ('DMD', 1343),\n",
       " ('NEFL', 3322),\n",
       " ('SCUBE2', 4927),\n",
       " ('SGK2', 5009),\n",
       " ('RUVBL1', 4869),\n",
       " ('KIF4A', 2692),\n",
       " ('TUBGCP2', 5732),\n",
       " ('WNT5A', 5929),\n",
       " ('COL17A1', 994),\n",
       " ('CLDN2', 933),\n",
       " ('PARN', 4006),\n",
       " ('MYH9', 3244),\n",
       " ('SAV1', 4908),\n",
       " ('BDNF', 422),\n",
       " ('GPR17', 2024),\n",
       " ('GRB7', 2043),\n",
       " ('MAG', 2895),\n",
       " ('PABPC1L', 3975),\n",
       " ('WWP1', 5943),\n",
       " ('ARPC2', 264),\n",
       " ('KCNJ12', 2638),\n",
       " ('PARD3', 4000),\n",
       " ('SGOL1', 5011),\n",
       " ('SKA1', 5058),\n",
       " ('AKT1', 125),\n",
       " ('GABRP', 1859),\n",
       " ('GATAD2B', 1902),\n",
       " ('XPC', 5952),\n",
       " ('GHR', 1938),\n",
       " ('RRM2', 4851),\n",
       " ('MYH11', 3233),\n",
       " ('ANAPC13', 145),\n",
       " ('CLDN19', 932),\n",
       " ('MET', 3037),\n",
       " ('THOC7', 5533),\n",
       " ('ACSL4', 32),\n",
       " ('KIF18A', 2680),\n",
       " ('IFITM1', 2353),\n",
       " ('RACGAP1', 4578),\n",
       " ('ADCY3', 71),\n",
       " ('KCNA6', 2608),\n",
       " ('AURKA', 358),\n",
       " ('CDC25B', 737),\n",
       " ('CALCOCO1', 550),\n",
       " ('UBE2C', 5760),\n",
       " ('NFATC3', 3339),\n",
       " ('PLAU', 4204),\n",
       " ('EPO', 1572),\n",
       " ('RHOJ', 4703),\n",
       " ('BLK', 437),\n",
       " ('FOXM1', 1788),\n",
       " ('MED22', 3016),\n",
       " ('PLK3', 4226),\n",
       " ('FRS3', 1801),\n",
       " ('TP63', 5641),\n",
       " ('KIF20A', 2681),\n",
       " ('HDAC5', 2167),\n",
       " ('PPBP', 4307),\n",
       " ('CCKBR', 623),\n",
       " ('KLK7', 2734),\n",
       " ('WNT3A', 5927),\n",
       " ('ANXA1', 160),\n",
       " ('IL12RB1', 2434),\n",
       " ('NPY1R', 3430),\n",
       " ('RAB11FIP5', 4556),\n",
       " ('SYCP1', 5354),\n",
       " ('PYGO2', 4545),\n",
       " ('FANCE', 1667),\n",
       " ('TAF9', 5402),\n",
       " ('NUP35', 3511)]"
      ]
     },
     "execution_count": 42,
     "metadata": {},
     "output_type": "execute_result"
    }
   ],
   "source": [
    "importance"
   ]
  },
  {
   "cell_type": "code",
   "execution_count": null,
   "metadata": {},
   "outputs": [],
   "source": []
  }
 ],
 "metadata": {
  "kernelspec": {
   "display_name": "Python 3",
   "language": "python",
   "name": "python3"
  },
  "language_info": {
   "codemirror_mode": {
    "name": "ipython",
    "version": 3
   },
   "file_extension": ".py",
   "mimetype": "text/x-python",
   "name": "python",
   "nbconvert_exporter": "python",
   "pygments_lexer": "ipython3",
   "version": "3.7.8"
  }
 },
 "nbformat": 4,
 "nbformat_minor": 4
}
