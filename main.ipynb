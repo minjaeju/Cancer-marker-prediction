{
 "cells": [
  {
   "cell_type": "code",
   "execution_count": 1,
   "metadata": {},
   "outputs": [
    {
     "name": "stderr",
     "output_type": "stream",
     "text": [
      "RDKit WARNING: [14:32:03] Enabling RDKit 2019.09.3 jupyter extensions\n"
     ]
    }
   ],
   "source": [
    "import pickle\n",
    "import torch\n",
    "from torch_geometric.data import Data, DataLoader\n",
    "import model\n",
    "from sklearn.metrics import f1_score\n",
    "\n",
    "import os"
   ]
  },
  {
   "cell_type": "markdown",
   "metadata": {},
   "source": [
    "### Load Dataset"
   ]
  },
  {
   "cell_type": "code",
   "execution_count": null,
   "metadata": {},
   "outputs": [],
   "source": [
    "# f = open(\"./data/preprocessed/tcga_brca_dataset.pkl\",'rb')\n",
    "# data_list = pickle.load(f)\n",
    "# f.close()\n",
    "\n",
    "#f = open(\"./data/preprocessed/cv/tcga_brca_dataset_train_0.pkl\",'rb')\n",
    "#train_list = pickle.load(f)\n",
    "#f.close()\n",
    "\n",
    "#f = open(\"./data/preprocessed/cv/tcga_brca_dataset_test_0.pkl\",'rb')\n",
    "#test_list = pickle.load(f)\n",
    "#f.close()\n",
    "\n",
    "f = open(\"./data/preprocessed/cv/netics_exp_TF_z_norm_train_0.pkl\",'rb')\n",
    "train_list = pickle.load(f)\n",
    "f.close()\n",
    "\n",
    "f = open(\"./data/preprocessed/cv/netics_exp_TF_z_norm_test_0.pkl\",'rb')\n",
    "test_list = pickle.load(f)\n",
    "f.close()"
   ]
  },
  {
   "cell_type": "code",
   "execution_count": 2,
   "metadata": {},
   "outputs": [],
   "source": [
    "# f = open(\"./data/preprocessed/tcga_brca_dataset.pkl\",'rb')\n",
    "# data_list = pickle.load(f)\n",
    "# f.close()\n",
    "#netics\n",
    "f = open(\"./data/preprocessed/cv/netics_exp_sample_train_0.pkl\",'rb')\n",
    "trainlist_sample = pickle.load(f)\n",
    "f.close()\n",
    "\n",
    "f = open(\"./data/preprocessed/cv/netics_exp_sample_test_0.pkl\",'rb')\n",
    "testlist_sample = pickle.load(f)\n",
    "f.close()\n",
    "\n",
    "f = open(\"./data/preprocessed/cv/netics_exp_TF_z_train_0.pkl\",'rb')\n",
    "trainlist_TF = pickle.load(f)\n",
    "f.close()\n",
    "\n",
    "f = open(\"./data/preprocessed/cv/netics_exp_TF_z_test_0.pkl\",'rb')\n",
    "testlist_TF = pickle.load(f)\n",
    "f.close()\n",
    "#len(test_list)"
   ]
  },
  {
   "cell_type": "markdown",
   "metadata": {},
   "source": [
    "### Get Dataloader"
   ]
  },
  {
   "cell_type": "code",
   "execution_count": 3,
   "metadata": {},
   "outputs": [],
   "source": [
    "train_loader = DataLoader(train_list,batch_size=1)\n",
    "test_loader = DataLoader(test_list, batch_size=1)"
   ]
  },
  {
   "cell_type": "code",
   "execution_count": 3,
   "metadata": {},
   "outputs": [],
   "source": [
    "#netics\n",
    "trainloader_sample = DataLoader(trainlist_sample,batch_size=16)\n",
    "testloader_sample = DataLoader(testlist_sample, batch_size=16)\n",
    "trainloader_TF = DataLoader(trainlist_TF, batch_size=16)\n",
    "testloader_TF = DataLoader(testlist_TF, batch_size=16)"
   ]
  },
  {
   "cell_type": "markdown",
   "metadata": {},
   "source": [
    "### Model Configuration"
   ]
  },
  {
   "cell_type": "code",
   "execution_count": 4,
   "metadata": {},
   "outputs": [
    {
     "name": "stdout",
     "output_type": "stream",
     "text": [
      "pagerank_explain: K:1, alpha:0.1, dropout:0.5\n",
      "cuda\n",
      "Save path: ./data/model/pagerank_explain\n"
     ]
    }
   ],
   "source": [
    "#num_genes =9630\n",
    "#netics\n",
    "num_genes = 6016\n",
    "num_class = 5\n",
    "num_layers = 4\n",
    "\n",
    "device = torch.device('cuda' if torch.cuda.is_available() else 'cpu')\n",
    "#model = model.simpleGCN(num_genes, num_class).to(device)\n",
    "model = model.pagerank_explain(num_genes,num_class).to(device)\n",
    "loss_op = torch.nn.CrossEntropyLoss()\n",
    "optimizer = torch.optim.Adam(model.parameters(), lr=0.001)\n",
    "\n",
    "save_path = \"./data/model/pagerank_explain\"\n",
    "print(\"Save path:\", save_path)"
   ]
  },
  {
   "cell_type": "markdown",
   "metadata": {},
   "source": [
    "### Train and Test"
   ]
  },
  {
   "cell_type": "code",
   "execution_count": 5,
   "metadata": {},
   "outputs": [],
   "source": [
    "def train():\n",
    "    model.train()\n",
    "    \n",
    "    total_loss = 0\n",
    "    for data in train_loader:\n",
    "        data = data.to(device)\n",
    "        optimizer.zero_grad()\n",
    "        output = model(data)\n",
    "        loss = loss_op(output, data.y)\n",
    "        total_loss+=loss.item()*data.num_graphs\n",
    "        loss.backward()\n",
    "        optimizer.step()\n",
    "                    \n",
    "    return total_loss / len(train_loader.dataset)\n",
    "\n",
    "def test(loader):\n",
    "    model.eval()\n",
    "\n",
    "    ys, preds = [], []\n",
    "    for data in loader:\n",
    "        ys.append(data.y)\n",
    "        out = model(data.to(device))\n",
    "        pred = out.max(dim=1)[1]\n",
    "        preds.append(pred.cpu())\n",
    "        #print(preds)\n",
    "    \n",
    "    y, pred = torch.cat(ys, dim=0).numpy(), torch.cat(preds, dim=0).numpy()\n",
    "    return f1_score(y, pred, average='weighted') if pred.sum() > 0 else 0"
   ]
  },
  {
   "cell_type": "code",
   "execution_count": 5,
   "metadata": {},
   "outputs": [],
   "source": [
    "#netics\n",
    "\n",
    "def train():\n",
    "    model.train()\n",
    "    \n",
    "    total_loss = 0\n",
    "    for data1, data2 in zip(trainloader_sample, trainloader_TF):\n",
    "        data1 = data1.to(device)\n",
    "        data2 = data2.to(device)\n",
    "        \n",
    "        optimizer.zero_grad()\n",
    "        output = model(data1, data2)\n",
    "        loss = loss_op(output, data1.y)\n",
    "        total_loss+=loss.item()*data1.num_graphs\n",
    "        loss.backward()\n",
    "        optimizer.step()\n",
    "                    \n",
    "    return total_loss / len(trainloader_sample.dataset)\n",
    "\n",
    "def test(loader1, loader2):\n",
    "    model.eval()\n",
    "\n",
    "    ys, preds = [], []\n",
    "    for data1, data2 in zip(loader1, loader2):\n",
    "        ys.append(data1.y)\n",
    "        out = model(data1.to(device),data2.to(device))\n",
    "        pred = out.max(dim=1)[1]\n",
    "        preds.append(pred.cpu())\n",
    "    \n",
    "    y, pred = torch.cat(ys, dim=0).numpy(), torch.cat(preds, dim=0).numpy()\n",
    "    return f1_score(y, pred, average='weighted') if pred.sum() > 0 else 0"
   ]
  },
  {
   "cell_type": "code",
   "execution_count": null,
   "metadata": {},
   "outputs": [],
   "source": [
    "if not os.path.exists(save_path):\n",
    "    os.makedirs(save_path)\n",
    "        \n",
    "for epoch in range(1, 3):\n",
    "    loss = train()\n",
    "    \n",
    "    if epoch%100 == 0:\n",
    "        torch.save(model.state_dict(),save_path+\"/model_epoch{}\".format(epoch))\n",
    "\n",
    "    test_f1 = test(test_loader)\n",
    "    print('Epoch: {:02d}, Loss: {:.4f}, Test: {:.4f}'.format(epoch, loss, test_f1))"
   ]
  },
  {
   "cell_type": "code",
   "execution_count": 6,
   "metadata": {},
   "outputs": [
    {
     "name": "stderr",
     "output_type": "stream",
     "text": [
      "/home/minjae/miniconda3/envs/minjae/lib/python3.7/site-packages/sklearn/metrics/classification.py:1437: UndefinedMetricWarning: F-score is ill-defined and being set to 0.0 in labels with no predicted samples.\n",
      "  'precision', 'predicted', average, warn_for)\n"
     ]
    },
    {
     "name": "stdout",
     "output_type": "stream",
     "text": [
      "Epoch: 01, Loss: 2.1569, Test: 0.0823\n",
      "Epoch: 02, Loss: 1.4785, Test: 0.2910\n",
      "Epoch: 03, Loss: 1.3530, Test: 0.2939\n",
      "Epoch: 04, Loss: 1.1827, Test: 0.3843\n",
      "Epoch: 05, Loss: 0.9649, Test: 0.4004\n",
      "Epoch: 06, Loss: 0.7859, Test: 0.4148\n",
      "Epoch: 07, Loss: 0.6618, Test: 0.4883\n",
      "Epoch: 08, Loss: 0.6030, Test: 0.5702\n",
      "Epoch: 09, Loss: 0.5406, Test: 0.5843\n",
      "Epoch: 10, Loss: 0.5123, Test: 0.6747\n",
      "Epoch: 11, Loss: 0.4954, Test: 0.6665\n",
      "Epoch: 12, Loss: 0.4672, Test: 0.7080\n",
      "Epoch: 13, Loss: 0.4294, Test: 0.7064\n",
      "Epoch: 14, Loss: 0.3972, Test: 0.7137\n",
      "Epoch: 15, Loss: 0.3631, Test: 0.6410\n",
      "Epoch: 16, Loss: 0.3555, Test: 0.6994\n",
      "Epoch: 17, Loss: 0.3456, Test: 0.6161\n",
      "Epoch: 18, Loss: 0.3469, Test: 0.6763\n",
      "Epoch: 19, Loss: 0.3420, Test: 0.6786\n",
      "Epoch: 20, Loss: 0.3111, Test: 0.7710\n",
      "Epoch: 21, Loss: 0.2923, Test: 0.8098\n",
      "Epoch: 22, Loss: 0.2530, Test: 0.7857\n",
      "Epoch: 23, Loss: 0.2497, Test: 0.7845\n",
      "Epoch: 24, Loss: 0.2414, Test: 0.7745\n",
      "Epoch: 25, Loss: 0.2257, Test: 0.7217\n",
      "Epoch: 26, Loss: 0.2416, Test: 0.7670\n",
      "Epoch: 27, Loss: 0.2270, Test: 0.8083\n",
      "19\n",
      "Epoch: 28, Loss: 0.2396, Test: 0.7286\n",
      "Epoch: 29, Loss: 0.3140, Test: 0.7043\n",
      "Epoch: 30, Loss: 0.3054, Test: 0.6953\n",
      "Epoch: 31, Loss: 0.3123, Test: 0.7882\n",
      "Epoch: 32, Loss: 0.3491, Test: 0.8025\n",
      "18\n",
      "Epoch: 33, Loss: 0.2739, Test: 0.8125\n",
      "Epoch: 34, Loss: 0.2376, Test: 0.7826\n",
      "Epoch: 35, Loss: 0.2179, Test: 0.7843\n",
      "Epoch: 36, Loss: 0.2039, Test: 0.8226\n",
      "Epoch: 37, Loss: 0.1906, Test: 0.7925\n",
      "Epoch: 38, Loss: 0.1645, Test: 0.8140\n",
      "17\n",
      "Epoch: 39, Loss: 0.2058, Test: 0.8042\n",
      "16\n",
      "Epoch: 40, Loss: 0.1682, Test: 0.8128\n",
      "15\n",
      "Epoch: 41, Loss: 0.2193, Test: 0.8402\n",
      "Epoch: 42, Loss: 0.1666, Test: 0.8118\n",
      "14\n",
      "Epoch: 43, Loss: 0.1485, Test: 0.7975\n",
      "Epoch: 44, Loss: 0.1273, Test: 0.7961\n",
      "Epoch: 45, Loss: 0.1296, Test: 0.8130\n",
      "13\n",
      "Epoch: 46, Loss: 0.1141, Test: 0.7929\n",
      "Epoch: 47, Loss: 0.1145, Test: 0.7624\n",
      "Epoch: 48, Loss: 0.1134, Test: 0.7915\n",
      "Epoch: 49, Loss: 0.1207, Test: 0.7924\n",
      "Epoch: 50, Loss: 0.1411, Test: 0.7944\n",
      "Epoch: 51, Loss: 0.0891, Test: 0.8359\n",
      "12\n",
      "Epoch: 52, Loss: 0.0659, Test: 0.8443\n",
      "Epoch: 53, Loss: 0.0736, Test: 0.8659\n",
      "Epoch: 54, Loss: 0.0711, Test: 0.7912\n",
      "Epoch: 55, Loss: 0.0579, Test: 0.7691\n",
      "Epoch: 56, Loss: 0.0962, Test: 0.7370\n",
      "Epoch: 57, Loss: 0.0910, Test: 0.8032\n",
      "11\n",
      "Epoch: 58, Loss: 0.1108, Test: 0.8004\n",
      "10\n",
      "Epoch: 59, Loss: 0.0941, Test: 0.6979\n",
      "Epoch: 60, Loss: 0.1543, Test: 0.7191\n",
      "Epoch: 61, Loss: 0.1390, Test: 0.6961\n",
      "Epoch: 62, Loss: 0.1551, Test: 0.6978\n",
      "Epoch: 63, Loss: 0.1368, Test: 0.7612\n",
      "Epoch: 64, Loss: 0.1467, Test: 0.8009\n",
      "9\n",
      "Epoch: 65, Loss: 0.1098, Test: 0.8064\n",
      "8\n",
      "Epoch: 66, Loss: 0.0718, Test: 0.7798\n",
      "Epoch: 67, Loss: 0.0880, Test: 0.7955\n",
      "Epoch: 68, Loss: 0.0728, Test: 0.8013\n",
      "7\n",
      "Epoch: 69, Loss: 0.0728, Test: 0.8436\n",
      "6\n",
      "Epoch: 70, Loss: 0.0659, Test: 0.7919\n",
      "Epoch: 71, Loss: 0.0697, Test: 0.8015\n",
      "5\n",
      "Epoch: 72, Loss: 0.0520, Test: 0.8025\n",
      "4\n",
      "Epoch: 73, Loss: 0.0695, Test: 0.7740\n",
      "Epoch: 74, Loss: 0.0598, Test: 0.8322\n",
      "3\n",
      "Epoch: 75, Loss: 0.0880, Test: 0.8137\n",
      "2\n",
      "Epoch: 76, Loss: 0.1229, Test: 0.7936\n",
      "Epoch: 77, Loss: 0.1200, Test: 0.8361\n",
      "1\n",
      "Epoch: 78, Loss: 0.1677, Test: 0.8535\n",
      "0\n",
      "Epoch: 79, Loss: 0.1204, Test: 0.8286\n"
     ]
    }
   ],
   "source": [
    "#netics\n",
    "if not os.path.exists(save_path):\n",
    "    os.makedirs(save_path)\n",
    "    \n",
    "early_patience = 20\n",
    "best_test = 0.1607\n",
    "\n",
    "for epoch in range(1, 301):\n",
    "    loss = train()\n",
    "\n",
    "    test_f1 = test(testloader_sample, testloader_TF)\n",
    "    torch.save({'epoch':epoch, 'model_state_dict':model.state_dict(),'testscore': test_f1, 'loss': loss}, save_path+\"/model_dict\")\n",
    "    \n",
    "    print('Epoch: {:02d}, Loss: {:.4f}, Test: {:.4f}'.format(epoch, loss, test_f1))\n",
    "\n",
    "    if test_f1 > best_test:\n",
    "        best_test = test_f1\n",
    "        best_epoch = epoch\n",
    "        torch.save({'epoch':best_epoch, 'model_state_dict':model.state_dict(),'bestscore': best_test,'loss': loss}, save_path+\"/best_model_h_dict\")\n",
    "    if test_f1 > 0.8 and test_f1 < best_test:\n",
    "        if early_patience > 0:\n",
    "            early_patience -= 1\n",
    "            print(early_patience)\n",
    "        else:\n",
    "            break"
   ]
  },
  {
   "cell_type": "code",
   "execution_count": 7,
   "metadata": {},
   "outputs": [],
   "source": [
    "import pickle\n",
    "import numpy as np\n",
    "import torch\n",
    "import matplotlib.pyplot as plt\n",
    "import explainer_graph"
   ]
  },
  {
   "cell_type": "code",
   "execution_count": 8,
   "metadata": {},
   "outputs": [
    {
     "data": {
      "text/plain": [
       "25"
      ]
     },
     "execution_count": 8,
     "metadata": {},
     "output_type": "execute_result"
    }
   ],
   "source": [
    "checkpoint = torch.load('./data/model/pagerank_explain/best_model_h_dict')\n",
    "\n",
    "model.load_state_dict(checkpoint['model_state_dict'])\n",
    "model.eval()\n",
    "save = []\n",
    "\n",
    "for i in range(len(testlist_sample)):\n",
    "    target = testlist_sample[i].y.cpu().detach().numpy()\n",
    "    pred = model(testlist_sample[i], testlist_TF[i],False)\n",
    "    probs = torch.softmax(pred,1)\n",
    "    pred_label = probs.argmax(dim=-1).cpu().detach().numpy()\n",
    "    if target[0]==1 and pred_label[0]==1:\n",
    "        save.append({pred_label[0]:i})\n",
    "        \n",
    "len(save)        "
   ]
  },
  {
   "cell_type": "code",
   "execution_count": 9,
   "metadata": {},
   "outputs": [
    {
     "name": "stdout",
     "output_type": "stream",
     "text": [
      "cuda\n"
     ]
    }
   ],
   "source": [
    "explainer = explainer_graph.GNNExplainer_lite(model, epochs=500)"
   ]
  },
  {
   "cell_type": "code",
   "execution_count": 10,
   "metadata": {},
   "outputs": [
    {
     "name": "stdout",
     "output_type": "stream",
     "text": [
      "predlabel: tensor([2], device='cuda:0')\n"
     ]
    }
   ],
   "source": [
    "mask_adj,epoch_losses = explainer.explain_graph(testlist_sample[3],testlist_TF[3],2)"
   ]
  },
  {
   "cell_type": "code",
   "execution_count": 9,
   "metadata": {},
   "outputs": [],
   "source": [
    "with open('./result/0','rb') as f:\n",
    "    act = pickle.load(f)"
   ]
  },
  {
   "cell_type": "code",
   "execution_count": 16,
   "metadata": {},
   "outputs": [
    {
     "data": {
      "text/plain": [
       "2.5655038"
      ]
     },
     "execution_count": 16,
     "metadata": {},
     "output_type": "execute_result"
    }
   ],
   "source": [
    "act.max()"
   ]
  },
  {
   "cell_type": "code",
   "execution_count": 21,
   "metadata": {},
   "outputs": [],
   "source": [
    "temp = act[0].argsort()\n",
    "rank = np.arange(len(act[0]))[temp.argsort()]"
   ]
  },
  {
   "cell_type": "code",
   "execution_count": 25,
   "metadata": {},
   "outputs": [],
   "source": [
    "rank=12031 - rank"
   ]
  },
  {
   "cell_type": "code",
   "execution_count": 50,
   "metadata": {},
   "outputs": [
    {
     "data": {
      "text/plain": [
       "247"
      ]
     },
     "execution_count": 50,
     "metadata": {},
     "output_type": "execute_result"
    }
   ],
   "source": [
    "rank[1577]"
   ]
  },
  {
   "cell_type": "code",
   "execution_count": 19,
   "metadata": {},
   "outputs": [
    {
     "data": {
      "text/plain": [
       "0.37471232"
      ]
     },
     "execution_count": 19,
     "metadata": {},
     "output_type": "execute_result"
    }
   ],
   "source": [
    "act[0][1597]"
   ]
  },
  {
   "cell_type": "code",
   "execution_count": 9,
   "metadata": {},
   "outputs": [],
   "source": [
    "with open('./result/class0/act_top10rand_0','rb') as f:\n",
    "    actrand = pickle.load(f)"
   ]
  },
  {
   "cell_type": "code",
   "execution_count": 10,
   "metadata": {},
   "outputs": [
    {
     "data": {
      "text/plain": [
       "[1979, 1995, 1546, 1989, 7995, 8011, 1969, 5289, 5232, 4385]"
      ]
     },
     "execution_count": 10,
     "metadata": {},
     "output_type": "execute_result"
    }
   ],
   "source": [
    "actrand"
   ]
  },
  {
   "cell_type": "code",
   "execution_count": 9,
   "metadata": {},
   "outputs": [],
   "source": [
    "with open('./masking_adj_rand.pkl','rb') as f:\n",
    "    maskingrand = pickle.load(f)"
   ]
  },
  {
   "cell_type": "code",
   "execution_count": 10,
   "metadata": {},
   "outputs": [
    {
     "data": {
      "text/plain": [
       "(array([1038]), array([0]))"
      ]
     },
     "execution_count": 10,
     "metadata": {},
     "output_type": "execute_result"
    }
   ],
   "source": [
    "np.where(maskingrand == maskingrand.max())"
   ]
  },
  {
   "cell_type": "code",
   "execution_count": 14,
   "metadata": {},
   "outputs": [
    {
     "data": {
      "text/plain": [
       "0.5587579"
      ]
     },
     "execution_count": 14,
     "metadata": {},
     "output_type": "execute_result"
    }
   ],
   "source": [
    "maskingrand.max()"
   ]
  },
  {
   "cell_type": "code",
   "execution_count": 10,
   "metadata": {},
   "outputs": [],
   "source": [
    "with open('./masking_ad1.pkl','rb') as f:\n",
    "    masking0 = pickle.load(f)"
   ]
  },
  {
   "cell_type": "code",
   "execution_count": 11,
   "metadata": {},
   "outputs": [],
   "source": [
    "with open('./masking_adj.pkl','rb') as f:\n",
    "    masking1 = pickle.load(f)"
   ]
  },
  {
   "cell_type": "code",
   "execution_count": 12,
   "metadata": {},
   "outputs": [],
   "source": [
    "with open('./masking_adj2.pkl','rb') as f:\n",
    "    masking100 = pickle.load(f)"
   ]
  },
  {
   "cell_type": "code",
   "execution_count": 15,
   "metadata": {},
   "outputs": [
    {
     "name": "stdout",
     "output_type": "stream",
     "text": [
      "1.5211802 0.0 0.57583386\n"
     ]
    }
   ],
   "source": [
    "print(masking100.max(),masking100.min(),masking100.mean())"
   ]
  },
  {
   "cell_type": "code",
   "execution_count": 27,
   "metadata": {},
   "outputs": [
    {
     "data": {
      "text/plain": [
       "(array([2118]), array([0]))"
      ]
     },
     "execution_count": 27,
     "metadata": {},
     "output_type": "execute_result"
    }
   ],
   "source": [
    "np.where(masking1 ==1.4961052   )"
   ]
  },
  {
   "cell_type": "code",
   "execution_count": 26,
   "metadata": {},
   "outputs": [
    {
     "data": {
      "text/plain": [
       "array([0.], dtype=float32)"
      ]
     },
     "execution_count": 26,
     "metadata": {},
     "output_type": "execute_result"
    }
   ],
   "source": [
    "masking1[612]"
   ]
  },
  {
   "cell_type": "code",
   "execution_count": 13,
   "metadata": {},
   "outputs": [
    {
     "name": "stdout",
     "output_type": "stream",
     "text": [
      "1.4961052 0.0 0.5811962\n"
     ]
    }
   ],
   "source": [
    "print(masking1.max(),masking1.min(),masking1.mean())"
   ]
  },
  {
   "cell_type": "code",
   "execution_count": 14,
   "metadata": {},
   "outputs": [
    {
     "name": "stdout",
     "output_type": "stream",
     "text": [
      "1.5297971 0.0 0.5920594\n"
     ]
    }
   ],
   "source": [
    "print(masking0.max(),masking0.min(),masking0.mean())"
   ]
  },
  {
   "cell_type": "code",
   "execution_count": 38,
   "metadata": {},
   "outputs": [
    {
     "data": {
      "text/plain": [
       "array([[1.3120971 ],\n",
       "       [0.69014287],\n",
       "       [0.64686245],\n",
       "       ...,\n",
       "       [0.        ],\n",
       "       [0.8430305 ],\n",
       "       [1.0084229 ]], dtype=float32)"
      ]
     },
     "execution_count": 38,
     "metadata": {},
     "output_type": "execute_result"
    }
   ],
   "source": [
    "masking1"
   ]
  },
  {
   "cell_type": "code",
   "execution_count": 39,
   "metadata": {},
   "outputs": [
    {
     "data": {
      "text/plain": [
       "array([[0.99738914],\n",
       "       [0.04124273],\n",
       "       [0.93241155],\n",
       "       ...,\n",
       "       [0.0266945 ],\n",
       "       [0.6233532 ],\n",
       "       [1.1868773 ]], dtype=float32)"
      ]
     },
     "execution_count": 39,
     "metadata": {},
     "output_type": "execute_result"
    }
   ],
   "source": [
    "masking0"
   ]
  },
  {
   "cell_type": "code",
   "execution_count": 40,
   "metadata": {},
   "outputs": [
    {
     "data": {
      "text/plain": [
       "array([[1.1947447 ],\n",
       "       [0.5732574 ],\n",
       "       [0.7329316 ],\n",
       "       ...,\n",
       "       [0.4989627 ],\n",
       "       [0.72794676],\n",
       "       [0.        ]], dtype=float32)"
      ]
     },
     "execution_count": 40,
     "metadata": {},
     "output_type": "execute_result"
    }
   ],
   "source": [
    "masking100"
   ]
  },
  {
   "cell_type": "code",
   "execution_count": 29,
   "metadata": {},
   "outputs": [],
   "source": [
    "with open('./result/class0/act_top10/act_top10_0','rb') as f:\n",
    "    act = pickle.load(f)"
   ]
  },
  {
   "cell_type": "code",
   "execution_count": 11,
   "metadata": {},
   "outputs": [],
   "source": [
    "with open('./data/preprocessed/netics_G_un_edgeindex.pkl', 'rb') as f:\n",
    "    netics = pickle.load(f)"
   ]
  },
  {
   "cell_type": "code",
   "execution_count": 87,
   "metadata": {},
   "outputs": [
    {
     "name": "stdout",
     "output_type": "stream",
     "text": [
      "Nodes are not connected\n"
     ]
    },
    {
     "data": {
      "image/png": "[encoded data removed]",
      "text/plain": [
       "<Figure size 432x288 with 1 Axes>"
      ]
     },
     "metadata": {},
     "output_type": "display_data"
    }
   ],
   "source": [
    "ori_gene,sub_gene = explainer.visualize_subgraph(mask_adj,netics,10,1,41)"
   ]
  },
  {
   "cell_type": "code",
   "execution_count": 9,
   "metadata": {},
   "outputs": [
    {
     "name": "stdout",
     "output_type": "stream",
     "text": [
      "predlabel: tensor([4], device='cuda:0')\n",
      "predlabel: tensor([4], device='cuda:0')\n",
      "predlabel: tensor([4], device='cuda:0')\n",
      "predlabel: tensor([4], device='cuda:0')\n",
      "predlabel: tensor([4], device='cuda:0')\n"
     ]
    }
   ],
   "source": [
    "for i in [7,17,28,55,82]:\n",
    "    mask_adj,epoch_losses = explainer.explain_graph(testlist_sample[i],testlist_TF[i],i)\n",
    "    #ori_gene,sub_gene = explainer.visualize_subgraph(mask_adj,netics,30,'1/htop30',i)"
   ]
  },
  {
   "cell_type": "code",
   "execution_count": 12,
   "metadata": {},
   "outputs": [],
   "source": [
    "from collections import Counter\n",
    "gene = []\n",
    "subnone = []\n",
    "for i in [6,15,16,20,23,24,29,33,36,45,48,51,54,58,62,65,71,72,89,91,93,97]:\n",
    "    with open('./result/class3/act_top10/{}'.format(i),'rb') as f:\n",
    "        file = pickle.load(f)\n",
    "        #gene_list = list(map(lambda x:x[0],file))\n",
    "        gene.extend(file)\n",
    "    for j in range(len(gene)):\n",
    "        if gene[j] > 6015:\n",
    "            gene[j] = gene[j] - 6015\n",
    "\n",
    "        \n",
    "counter = Counter(gene)\n",
    "    "
   ]
  },
  {
   "cell_type": "code",
   "execution_count": 13,
   "metadata": {},
   "outputs": [
    {
     "data": {
      "text/plain": [
       "[(1979, 17),\n",
       " (273, 15),\n",
       " (1546, 13),\n",
       " (100, 10),\n",
       " (1980, 10),\n",
       " (1303, 10),\n",
       " (4162, 9),\n",
       " (1989, 8),\n",
       " (4385, 8),\n",
       " (4383, 8),\n",
       " (3347, 7),\n",
       " (4384, 7),\n",
       " (1995, 6),\n",
       " (2586, 6),\n",
       " (2936, 6),\n",
       " (4515, 6),\n",
       " (1970, 5),\n",
       " (5232, 5),\n",
       " (3226, 4),\n",
       " (4393, 4),\n",
       " (777, 4),\n",
       " (4822, 4),\n",
       " (2945, 4),\n",
       " (1820, 4),\n",
       " (2880, 3),\n",
       " (4166, 3),\n",
       " (1968, 3),\n",
       " (4342, 3),\n",
       " (4409, 3),\n",
       " (38, 3),\n",
       " (1969, 2),\n",
       " (5289, 2),\n",
       " (1142, 2),\n",
       " (1990, 2),\n",
       " (807, 2),\n",
       " (1996, 1),\n",
       " (4167, 1),\n",
       " (4163, 1),\n",
       " (1977, 1),\n",
       " (1143, 1),\n",
       " (605, 1),\n",
       " (4225, 1),\n",
       " (4437, 1),\n",
       " (4214, 1),\n",
       " (1083, 1),\n",
       " (5756, 1),\n",
       " (1972, 1)]"
      ]
     },
     "execution_count": 13,
     "metadata": {},
     "output_type": "execute_result"
    }
   ],
   "source": [
    "counter.most_common()"
   ]
  },
  {
   "cell_type": "code",
   "execution_count": 14,
   "metadata": {},
   "outputs": [],
   "source": [
    "with open('./data/preprocessed/netics_node_mapping.pkl', 'rb') as f:\n",
    "    mapping = pickle.load(f)"
   ]
  },
  {
   "cell_type": "code",
   "execution_count": 15,
   "metadata": {},
   "outputs": [
    {
     "data": {
      "text/plain": [
       "('GNB1', 1979)"
      ]
     },
     "execution_count": 15,
     "metadata": {},
     "output_type": "execute_result"
    }
   ],
   "source": [
    "list(mapping.items())[1979]"
   ]
  },
  {
   "cell_type": "code",
   "execution_count": 16,
   "metadata": {},
   "outputs": [
    {
     "data": {
      "text/plain": [
       "[(('GNB1', 1979), 17),\n",
       " (('ARTN', 273), 15),\n",
       " (('EP300', 1546), 13),\n",
       " (('AEBP2', 100), 10),\n",
       " (('GNB2', 1980), 10),\n",
       " (('DKFZP686L0365', 1303), 10),\n",
       " (('PIK3CA', 4162), 9),\n",
       " (('GNG2', 1989), 8),\n",
       " (('PRKACG', 4385), 8),\n",
       " (('PRKACA', 4383), 8),\n",
       " (('NFKB1', 3347), 7),\n",
       " (('PRKACB', 4384), 7),\n",
       " (('GNGT1', 1995), 6),\n",
       " (('JUN', 2586), 6),\n",
       " (('MAPK1', 2936), 6),\n",
       " (('PTPN11', 4515), 6),\n",
       " (('GNAI3', 1970), 5),\n",
       " (('SRC', 5232), 5),\n",
       " (('MYC', 3226), 4),\n",
       " (('PRKCA', 4393), 4),\n",
       " (('CDK1', 777), 4),\n",
       " (('RPS28', 4822), 4),\n",
       " (('MAPK8', 2945), 4),\n",
       " (('FYN', 1820), 4),\n",
       " (('LYN', 2880), 3),\n",
       " (('PIK3R1', 4166), 3),\n",
       " (('GNAI1', 1968), 3),\n",
       " (('PPP2R1A', 4342), 3),\n",
       " (('PRKX', 4409), 3),\n",
       " (('ACTBL2', 38), 3),\n",
       " (('GNAI2', 1969), 2),\n",
       " (('STAT3', 5289), 2),\n",
       " (('CTNNB1', 1142), 2),\n",
       " (('GNG3', 1990), 2),\n",
       " (('CEBPB', 807), 2),\n",
       " (('GNGT2', 1996), 1),\n",
       " (('PIK3R2', 4167), 1),\n",
       " (('PIK3CB', 4163), 1),\n",
       " (('GNAT3', 1977), 1),\n",
       " (('CTNNBL1', 1143), 1),\n",
       " (('CBLB', 605), 1),\n",
       " (('PLK1', 4225), 1),\n",
       " (('PSMA1', 4437), 1),\n",
       " (('PLCG1', 4214), 1),\n",
       " (('CREBBP', 1083), 1),\n",
       " (('UBA7', 5756), 1),\n",
       " (('GNAO1', 1972), 1)]"
      ]
     },
     "execution_count": 16,
     "metadata": {},
     "output_type": "execute_result"
    }
   ],
   "source": [
    "gene_list = []\n",
    "none =[]\n",
    "for i,j in counter.most_common():\n",
    "    try:\n",
    "        gene_list.append((list(mapping.items())[i],j))\n",
    "    except:\n",
    "        none.append(i)\n",
    "gene_list"
   ]
  },
  {
   "cell_type": "code",
   "execution_count": 17,
   "metadata": {},
   "outputs": [
    {
     "data": {
      "text/plain": [
       "array([   0,    0,    0, ..., 6011, 6011, 6012])"
      ]
     },
     "execution_count": 17,
     "metadata": {},
     "output_type": "execute_result"
    }
   ],
   "source": [
    "netics.numpy()[]"
   ]
  },
  {
   "cell_type": "code",
   "execution_count": 12,
   "metadata": {},
   "outputs": [],
   "source": [
    "from torch_geometric.utils import k_hop_subgraph\n",
    "subset, edge_index, inv, edge_mask = k_hop_subgraph(4869,1,netics,num_nodes=6016)"
   ]
  },
  {
   "cell_type": "code",
   "execution_count": 13,
   "metadata": {},
   "outputs": [
    {
     "data": {
      "text/plain": [
       "tensor([  38,   43,  190,  467,  586,  814,  815,  818,  819,  821,  822,  823,\n",
       "         824,  825,  826,  827,  828,  829,  830, 1083, 1142, 1269, 1282, 1341,\n",
       "        1546, 1547, 1553, 1779, 2214, 2224, 2225, 2479, 2485, 2560, 2596, 2782,\n",
       "        2967, 2998, 3053, 3054, 3089, 3090, 3099, 3226, 3362, 3423, 3539, 4022,\n",
       "        4641, 4643, 4753, 4856, 4869])"
      ]
     },
     "execution_count": 13,
     "metadata": {},
     "output_type": "execute_result"
    }
   ],
   "source": [
    "subset"
   ]
  },
  {
   "cell_type": "markdown",
   "metadata": {},
   "source": [
    "### Reference \n",
    "@torch.no_grad()\n",
    "#https://github.com/rusty1s/pytorch_geometric/blob/master/examples/ppi.py\n",
    "#https://github.com/rusty1s/pytorch_geometric/blob/master/examples/proteins_topk_pool.py\n"
   ]
  },
  {
   "cell_type": "code",
   "execution_count": null,
   "metadata": {},
   "outputs": [],
   "source": []
  }
 ],
 "metadata": {
  "kernelspec": {
   "display_name": "python (minjae)",
   "language": "python",
   "name": "minjae"
  },
  "language_info": {
   "codemirror_mode": {
    "name": "ipython",
    "version": 3
   },
   "file_extension": ".py",
   "mimetype": "text/x-python",
   "name": "python",
   "nbconvert_exporter": "python",
   "pygments_lexer": "ipython3",
   "version": "3.7.8"
  }
 },
 "nbformat": 4,
 "nbformat_minor": 4
}
